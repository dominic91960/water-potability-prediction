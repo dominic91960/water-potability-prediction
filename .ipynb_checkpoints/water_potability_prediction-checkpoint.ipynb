{
  "nbformat": 4,
  "nbformat_minor": 0,
  "metadata": {
    "colab": {
      "provenance": []
    },
    "kernelspec": {
      "name": "python3",
      "display_name": "Python 3"
    },
    "language_info": {
      "name": "python"
    }
  },
  "cells": [
    {
      "cell_type": "markdown",
      "source": [
        "> # **Building a Classification Model for The MAGIC Gamma Telescope Data Set**"
      ],
      "metadata": {
        "id": "ORDE3jGEEQTe"
      }
    },
    {
      "cell_type": "markdown",
      "source": [
        "## **1. Data Preprocessing**"
      ],
      "metadata": {
        "id": "RumDFwmiEYBL"
      }
    },
    {
      "cell_type": "markdown",
      "source": [
        "### **1.1 Importing Libraries**"
      ],
      "metadata": {
        "id": "0a74WQSbGbpV"
      }
    },
    {
      "cell_type": "code",
      "source": [
        "import numpy as np\n",
        "import pandas as pd\n",
        "import matplotlib.pyplot as plt\n",
        "\n",
        "# Set matplotlib.pyplot style to dark background\n",
        "plt.style.use('dark_background')"
      ],
      "metadata": {
        "id": "8GicyLenGler"
      },
      "execution_count": null,
      "outputs": []
    },
    {
      "cell_type": "markdown",
      "source": [
        "### **1.2 Importing Dataset**\n",
        "\n",
        "Bock,R.. (2007). MAGIC Gamma Telescope. UCI Machine Learning Repository. https://doi.org/10.24432/C52C8B."
      ],
      "metadata": {
        "id": "T-HVflyAFAHa"
      }
    },
    {
      "cell_type": "markdown",
      "source": [
        "Link to Dataset: https://drive.google.com/file/d/1GwbOuMMpApfXOJvvAEzkLSOwESQilw6d/view?usp=sharing"
      ],
      "metadata": {
        "id": "EqLBRDonF_Np"
      }
    },
    {
      "cell_type": "code",
      "source": [
        "path = \"/content/drive/MyDrive/NIBM/Machine Learning/Tutorial/MAGIC Gamma Telescope/MAGIC Gamma Telescope Dataset/magic04.data\"\n",
        "cols = [\"fLength\", \"fWidth\", \"fSize\", \"fConc\", \"fConc1\", \"fAsym\", \"fM3Long\", \"fM3Trans\", \"fAlpha\", \"fDist\", \"class\"]\n",
        "df = pd.read_csv(path, names = cols)\n",
        "df.sample(5)\n",
        "\n",
        "# g = gamma\n",
        "# h = hadron"
      ],
      "metadata": {
        "colab": {
          "base_uri": "https://localhost:8080/",
          "height": 206
        },
        "id": "O9eC1uktEN7Q",
        "outputId": "e796e84d-d58c-45eb-c0f2-043287848d6e"
      },
      "execution_count": null,
      "outputs": [
        {
          "output_type": "execute_result",
          "data": {
            "text/plain": [
              "       fLength   fWidth   fSize   fConc  fConc1    fAsym  fM3Long  fM3Trans  \\\n",
              "12141  43.2949  12.6941  2.7054  0.3232  0.1665  10.1203  35.6792   -7.3071   \n",
              "12222  74.3998  28.9861  3.5147  0.2164  0.1218 -34.4850  63.2741   19.7265   \n",
              "11363  32.6126  15.8183  2.6048  0.3354  0.1925 -28.8594 -23.2837   -8.2173   \n",
              "15564  67.6087  26.6783  2.6320  0.3851  0.2462 -56.6298 -57.9631   19.8064   \n",
              "12423  69.2540  34.3016  3.1916  0.1173  0.1132 -30.2818  73.8184   21.3775   \n",
              "\n",
              "        fAlpha     fDist class  \n",
              "12141   0.5486  244.1950     g  \n",
              "12222   4.3296  296.2730     g  \n",
              "11363   2.6807  209.4830     g  \n",
              "15564  79.6662  227.1910     h  \n",
              "12423  24.9091  279.9318     h  "
            ],
            "text/html": [
              "\n",
              "  <div id=\"df-237adb08-7bd4-43ef-9cfe-24993d56ac92\" class=\"colab-df-container\">\n",
              "    <div>\n",
              "<style scoped>\n",
              "    .dataframe tbody tr th:only-of-type {\n",
              "        vertical-align: middle;\n",
              "    }\n",
              "\n",
              "    .dataframe tbody tr th {\n",
              "        vertical-align: top;\n",
              "    }\n",
              "\n",
              "    .dataframe thead th {\n",
              "        text-align: right;\n",
              "    }\n",
              "</style>\n",
              "<table border=\"1\" class=\"dataframe\">\n",
              "  <thead>\n",
              "    <tr style=\"text-align: right;\">\n",
              "      <th></th>\n",
              "      <th>fLength</th>\n",
              "      <th>fWidth</th>\n",
              "      <th>fSize</th>\n",
              "      <th>fConc</th>\n",
              "      <th>fConc1</th>\n",
              "      <th>fAsym</th>\n",
              "      <th>fM3Long</th>\n",
              "      <th>fM3Trans</th>\n",
              "      <th>fAlpha</th>\n",
              "      <th>fDist</th>\n",
              "      <th>class</th>\n",
              "    </tr>\n",
              "  </thead>\n",
              "  <tbody>\n",
              "    <tr>\n",
              "      <th>12141</th>\n",
              "      <td>43.2949</td>\n",
              "      <td>12.6941</td>\n",
              "      <td>2.7054</td>\n",
              "      <td>0.3232</td>\n",
              "      <td>0.1665</td>\n",
              "      <td>10.1203</td>\n",
              "      <td>35.6792</td>\n",
              "      <td>-7.3071</td>\n",
              "      <td>0.5486</td>\n",
              "      <td>244.1950</td>\n",
              "      <td>g</td>\n",
              "    </tr>\n",
              "    <tr>\n",
              "      <th>12222</th>\n",
              "      <td>74.3998</td>\n",
              "      <td>28.9861</td>\n",
              "      <td>3.5147</td>\n",
              "      <td>0.2164</td>\n",
              "      <td>0.1218</td>\n",
              "      <td>-34.4850</td>\n",
              "      <td>63.2741</td>\n",
              "      <td>19.7265</td>\n",
              "      <td>4.3296</td>\n",
              "      <td>296.2730</td>\n",
              "      <td>g</td>\n",
              "    </tr>\n",
              "    <tr>\n",
              "      <th>11363</th>\n",
              "      <td>32.6126</td>\n",
              "      <td>15.8183</td>\n",
              "      <td>2.6048</td>\n",
              "      <td>0.3354</td>\n",
              "      <td>0.1925</td>\n",
              "      <td>-28.8594</td>\n",
              "      <td>-23.2837</td>\n",
              "      <td>-8.2173</td>\n",
              "      <td>2.6807</td>\n",
              "      <td>209.4830</td>\n",
              "      <td>g</td>\n",
              "    </tr>\n",
              "    <tr>\n",
              "      <th>15564</th>\n",
              "      <td>67.6087</td>\n",
              "      <td>26.6783</td>\n",
              "      <td>2.6320</td>\n",
              "      <td>0.3851</td>\n",
              "      <td>0.2462</td>\n",
              "      <td>-56.6298</td>\n",
              "      <td>-57.9631</td>\n",
              "      <td>19.8064</td>\n",
              "      <td>79.6662</td>\n",
              "      <td>227.1910</td>\n",
              "      <td>h</td>\n",
              "    </tr>\n",
              "    <tr>\n",
              "      <th>12423</th>\n",
              "      <td>69.2540</td>\n",
              "      <td>34.3016</td>\n",
              "      <td>3.1916</td>\n",
              "      <td>0.1173</td>\n",
              "      <td>0.1132</td>\n",
              "      <td>-30.2818</td>\n",
              "      <td>73.8184</td>\n",
              "      <td>21.3775</td>\n",
              "      <td>24.9091</td>\n",
              "      <td>279.9318</td>\n",
              "      <td>h</td>\n",
              "    </tr>\n",
              "  </tbody>\n",
              "</table>\n",
              "</div>\n",
              "    <div class=\"colab-df-buttons\">\n",
              "\n",
              "  <div class=\"colab-df-container\">\n",
              "    <button class=\"colab-df-convert\" onclick=\"convertToInteractive('df-237adb08-7bd4-43ef-9cfe-24993d56ac92')\"\n",
              "            title=\"Convert this dataframe to an interactive table.\"\n",
              "            style=\"display:none;\">\n",
              "\n",
              "  <svg xmlns=\"http://www.w3.org/2000/svg\" height=\"24px\" viewBox=\"0 -960 960 960\">\n",
              "    <path d=\"M120-120v-720h720v720H120Zm60-500h600v-160H180v160Zm220 220h160v-160H400v160Zm0 220h160v-160H400v160ZM180-400h160v-160H180v160Zm440 0h160v-160H620v160ZM180-180h160v-160H180v160Zm440 0h160v-160H620v160Z\"/>\n",
              "  </svg>\n",
              "    </button>\n",
              "\n",
              "  <style>\n",
              "    .colab-df-container {\n",
              "      display:flex;\n",
              "      gap: 12px;\n",
              "    }\n",
              "\n",
              "    .colab-df-convert {\n",
              "      background-color: #E8F0FE;\n",
              "      border: none;\n",
              "      border-radius: 50%;\n",
              "      cursor: pointer;\n",
              "      display: none;\n",
              "      fill: #1967D2;\n",
              "      height: 32px;\n",
              "      padding: 0 0 0 0;\n",
              "      width: 32px;\n",
              "    }\n",
              "\n",
              "    .colab-df-convert:hover {\n",
              "      background-color: #E2EBFA;\n",
              "      box-shadow: 0px 1px 2px rgba(60, 64, 67, 0.3), 0px 1px 3px 1px rgba(60, 64, 67, 0.15);\n",
              "      fill: #174EA6;\n",
              "    }\n",
              "\n",
              "    .colab-df-buttons div {\n",
              "      margin-bottom: 4px;\n",
              "    }\n",
              "\n",
              "    [theme=dark] .colab-df-convert {\n",
              "      background-color: #3B4455;\n",
              "      fill: #D2E3FC;\n",
              "    }\n",
              "\n",
              "    [theme=dark] .colab-df-convert:hover {\n",
              "      background-color: #434B5C;\n",
              "      box-shadow: 0px 1px 3px 1px rgba(0, 0, 0, 0.15);\n",
              "      filter: drop-shadow(0px 1px 2px rgba(0, 0, 0, 0.3));\n",
              "      fill: #FFFFFF;\n",
              "    }\n",
              "  </style>\n",
              "\n",
              "    <script>\n",
              "      const buttonEl =\n",
              "        document.querySelector('#df-237adb08-7bd4-43ef-9cfe-24993d56ac92 button.colab-df-convert');\n",
              "      buttonEl.style.display =\n",
              "        google.colab.kernel.accessAllowed ? 'block' : 'none';\n",
              "\n",
              "      async function convertToInteractive(key) {\n",
              "        const element = document.querySelector('#df-237adb08-7bd4-43ef-9cfe-24993d56ac92');\n",
              "        const dataTable =\n",
              "          await google.colab.kernel.invokeFunction('convertToInteractive',\n",
              "                                                    [key], {});\n",
              "        if (!dataTable) return;\n",
              "\n",
              "        const docLinkHtml = 'Like what you see? Visit the ' +\n",
              "          '<a target=\"_blank\" href=https://colab.research.google.com/notebooks/data_table.ipynb>data table notebook</a>'\n",
              "          + ' to learn more about interactive tables.';\n",
              "        element.innerHTML = '';\n",
              "        dataTable['output_type'] = 'display_data';\n",
              "        await google.colab.output.renderOutput(dataTable, element);\n",
              "        const docLink = document.createElement('div');\n",
              "        docLink.innerHTML = docLinkHtml;\n",
              "        element.appendChild(docLink);\n",
              "      }\n",
              "    </script>\n",
              "  </div>\n",
              "\n",
              "\n",
              "<div id=\"df-64f147b2-85f9-4368-8fd6-0a942a2254db\">\n",
              "  <button class=\"colab-df-quickchart\" onclick=\"quickchart('df-64f147b2-85f9-4368-8fd6-0a942a2254db')\"\n",
              "            title=\"Suggest charts\"\n",
              "            style=\"display:none;\">\n",
              "\n",
              "<svg xmlns=\"http://www.w3.org/2000/svg\" height=\"24px\"viewBox=\"0 0 24 24\"\n",
              "     width=\"24px\">\n",
              "    <g>\n",
              "        <path d=\"M19 3H5c-1.1 0-2 .9-2 2v14c0 1.1.9 2 2 2h14c1.1 0 2-.9 2-2V5c0-1.1-.9-2-2-2zM9 17H7v-7h2v7zm4 0h-2V7h2v10zm4 0h-2v-4h2v4z\"/>\n",
              "    </g>\n",
              "</svg>\n",
              "  </button>\n",
              "\n",
              "<style>\n",
              "  .colab-df-quickchart {\n",
              "      --bg-color: #E8F0FE;\n",
              "      --fill-color: #1967D2;\n",
              "      --hover-bg-color: #E2EBFA;\n",
              "      --hover-fill-color: #174EA6;\n",
              "      --disabled-fill-color: #AAA;\n",
              "      --disabled-bg-color: #DDD;\n",
              "  }\n",
              "\n",
              "  [theme=dark] .colab-df-quickchart {\n",
              "      --bg-color: #3B4455;\n",
              "      --fill-color: #D2E3FC;\n",
              "      --hover-bg-color: #434B5C;\n",
              "      --hover-fill-color: #FFFFFF;\n",
              "      --disabled-bg-color: #3B4455;\n",
              "      --disabled-fill-color: #666;\n",
              "  }\n",
              "\n",
              "  .colab-df-quickchart {\n",
              "    background-color: var(--bg-color);\n",
              "    border: none;\n",
              "    border-radius: 50%;\n",
              "    cursor: pointer;\n",
              "    display: none;\n",
              "    fill: var(--fill-color);\n",
              "    height: 32px;\n",
              "    padding: 0;\n",
              "    width: 32px;\n",
              "  }\n",
              "\n",
              "  .colab-df-quickchart:hover {\n",
              "    background-color: var(--hover-bg-color);\n",
              "    box-shadow: 0 1px 2px rgba(60, 64, 67, 0.3), 0 1px 3px 1px rgba(60, 64, 67, 0.15);\n",
              "    fill: var(--button-hover-fill-color);\n",
              "  }\n",
              "\n",
              "  .colab-df-quickchart-complete:disabled,\n",
              "  .colab-df-quickchart-complete:disabled:hover {\n",
              "    background-color: var(--disabled-bg-color);\n",
              "    fill: var(--disabled-fill-color);\n",
              "    box-shadow: none;\n",
              "  }\n",
              "\n",
              "  .colab-df-spinner {\n",
              "    border: 2px solid var(--fill-color);\n",
              "    border-color: transparent;\n",
              "    border-bottom-color: var(--fill-color);\n",
              "    animation:\n",
              "      spin 1s steps(1) infinite;\n",
              "  }\n",
              "\n",
              "  @keyframes spin {\n",
              "    0% {\n",
              "      border-color: transparent;\n",
              "      border-bottom-color: var(--fill-color);\n",
              "      border-left-color: var(--fill-color);\n",
              "    }\n",
              "    20% {\n",
              "      border-color: transparent;\n",
              "      border-left-color: var(--fill-color);\n",
              "      border-top-color: var(--fill-color);\n",
              "    }\n",
              "    30% {\n",
              "      border-color: transparent;\n",
              "      border-left-color: var(--fill-color);\n",
              "      border-top-color: var(--fill-color);\n",
              "      border-right-color: var(--fill-color);\n",
              "    }\n",
              "    40% {\n",
              "      border-color: transparent;\n",
              "      border-right-color: var(--fill-color);\n",
              "      border-top-color: var(--fill-color);\n",
              "    }\n",
              "    60% {\n",
              "      border-color: transparent;\n",
              "      border-right-color: var(--fill-color);\n",
              "    }\n",
              "    80% {\n",
              "      border-color: transparent;\n",
              "      border-right-color: var(--fill-color);\n",
              "      border-bottom-color: var(--fill-color);\n",
              "    }\n",
              "    90% {\n",
              "      border-color: transparent;\n",
              "      border-bottom-color: var(--fill-color);\n",
              "    }\n",
              "  }\n",
              "</style>\n",
              "\n",
              "  <script>\n",
              "    async function quickchart(key) {\n",
              "      const quickchartButtonEl =\n",
              "        document.querySelector('#' + key + ' button');\n",
              "      quickchartButtonEl.disabled = true;  // To prevent multiple clicks.\n",
              "      quickchartButtonEl.classList.add('colab-df-spinner');\n",
              "      try {\n",
              "        const charts = await google.colab.kernel.invokeFunction(\n",
              "            'suggestCharts', [key], {});\n",
              "      } catch (error) {\n",
              "        console.error('Error during call to suggestCharts:', error);\n",
              "      }\n",
              "      quickchartButtonEl.classList.remove('colab-df-spinner');\n",
              "      quickchartButtonEl.classList.add('colab-df-quickchart-complete');\n",
              "    }\n",
              "    (() => {\n",
              "      let quickchartButtonEl =\n",
              "        document.querySelector('#df-64f147b2-85f9-4368-8fd6-0a942a2254db button');\n",
              "      quickchartButtonEl.style.display =\n",
              "        google.colab.kernel.accessAllowed ? 'block' : 'none';\n",
              "    })();\n",
              "  </script>\n",
              "</div>\n",
              "\n",
              "    </div>\n",
              "  </div>\n"
            ],
            "application/vnd.google.colaboratory.intrinsic+json": {
              "type": "dataframe",
              "summary": "{\n  \"name\": \"# h = hadron\",\n  \"rows\": 5,\n  \"fields\": [\n    {\n      \"column\": \"fLength\",\n      \"properties\": {\n        \"dtype\": \"number\",\n        \"std\": 18.351371450793536,\n        \"min\": 32.6126,\n        \"max\": 74.3998,\n        \"num_unique_values\": 5,\n        \"samples\": [\n          74.3998,\n          69.254,\n          32.6126\n        ],\n        \"semantic_type\": \"\",\n        \"description\": \"\"\n      }\n    },\n    {\n      \"column\": \"fWidth\",\n      \"properties\": {\n        \"dtype\": \"number\",\n        \"std\": 9.116715184867848,\n        \"min\": 12.6941,\n        \"max\": 34.3016,\n        \"num_unique_values\": 5,\n        \"samples\": [\n          28.9861,\n          34.3016,\n          15.8183\n        ],\n        \"semantic_type\": \"\",\n        \"description\": \"\"\n      }\n    },\n    {\n      \"column\": \"fSize\",\n      \"properties\": {\n        \"dtype\": \"number\",\n        \"std\": 0.4047568405845663,\n        \"min\": 2.6048,\n        \"max\": 3.5147,\n        \"num_unique_values\": 5,\n        \"samples\": [\n          3.5147,\n          3.1916,\n          2.6048\n        ],\n        \"semantic_type\": \"\",\n        \"description\": \"\"\n      }\n    },\n    {\n      \"column\": \"fConc\",\n      \"properties\": {\n        \"dtype\": \"number\",\n        \"std\": 0.10769808261988696,\n        \"min\": 0.1173,\n        \"max\": 0.3851,\n        \"num_unique_values\": 5,\n        \"samples\": [\n          0.2164,\n          0.1173,\n          0.3354\n        ],\n        \"semantic_type\": \"\",\n        \"description\": \"\"\n      }\n    },\n    {\n      \"column\": \"fConc1\",\n      \"properties\": {\n        \"dtype\": \"number\",\n        \"std\": 0.054440821081243804,\n        \"min\": 0.1132,\n        \"max\": 0.2462,\n        \"num_unique_values\": 5,\n        \"samples\": [\n          0.1218,\n          0.1132,\n          0.1925\n        ],\n        \"semantic_type\": \"\",\n        \"description\": \"\"\n      }\n    },\n    {\n      \"column\": \"fAsym\",\n      \"properties\": {\n        \"dtype\": \"number\",\n        \"std\": 24.087441965846022,\n        \"min\": -56.6298,\n        \"max\": 10.1203,\n        \"num_unique_values\": 5,\n        \"samples\": [\n          -34.485,\n          -30.2818,\n          -28.8594\n        ],\n        \"semantic_type\": \"\",\n        \"description\": \"\"\n      }\n    },\n    {\n      \"column\": \"fM3Long\",\n      \"properties\": {\n        \"dtype\": \"number\",\n        \"std\": 56.90400558244559,\n        \"min\": -57.9631,\n        \"max\": 73.8184,\n        \"num_unique_values\": 5,\n        \"samples\": [\n          63.2741,\n          73.8184,\n          -23.2837\n        ],\n        \"semantic_type\": \"\",\n        \"description\": \"\"\n      }\n    },\n    {\n      \"column\": \"fM3Trans\",\n      \"properties\": {\n        \"dtype\": \"number\",\n        \"std\": 15.389653342099685,\n        \"min\": -8.2173,\n        \"max\": 21.3775,\n        \"num_unique_values\": 5,\n        \"samples\": [\n          19.7265,\n          21.3775,\n          -8.2173\n        ],\n        \"semantic_type\": \"\",\n        \"description\": \"\"\n      }\n    },\n    {\n      \"column\": \"fAlpha\",\n      \"properties\": {\n        \"dtype\": \"number\",\n        \"std\": 33.4611097915625,\n        \"min\": 0.5486,\n        \"max\": 79.6662,\n        \"num_unique_values\": 5,\n        \"samples\": [\n          4.3296,\n          24.9091,\n          2.6807\n        ],\n        \"semantic_type\": \"\",\n        \"description\": \"\"\n      }\n    },\n    {\n      \"column\": \"fDist\",\n      \"properties\": {\n        \"dtype\": \"number\",\n        \"std\": 36.134025675089134,\n        \"min\": 209.483,\n        \"max\": 296.273,\n        \"num_unique_values\": 5,\n        \"samples\": [\n          296.273,\n          279.9318,\n          209.483\n        ],\n        \"semantic_type\": \"\",\n        \"description\": \"\"\n      }\n    },\n    {\n      \"column\": \"class\",\n      \"properties\": {\n        \"dtype\": \"category\",\n        \"num_unique_values\": 2,\n        \"samples\": [\n          \"h\",\n          \"g\"\n        ],\n        \"semantic_type\": \"\",\n        \"description\": \"\"\n      }\n    }\n  ]\n}"
            }
          },
          "metadata": {},
          "execution_count": 2
        }
      ]
    },
    {
      "cell_type": "markdown",
      "source": [
        "### **1.3 Exploring the dataset**"
      ],
      "metadata": {
        "id": "IzkJOFPcFf8V"
      }
    },
    {
      "cell_type": "code",
      "source": [
        "df.info()"
      ],
      "metadata": {
        "colab": {
          "base_uri": "https://localhost:8080/"
        },
        "id": "OVTdvHFiH86z",
        "outputId": "446f7af2-2c9d-48b8-eb74-899dd67d56d4"
      },
      "execution_count": null,
      "outputs": [
        {
          "output_type": "stream",
          "name": "stdout",
          "text": [
            "<class 'pandas.core.frame.DataFrame'>\n",
            "RangeIndex: 19020 entries, 0 to 19019\n",
            "Data columns (total 11 columns):\n",
            " #   Column    Non-Null Count  Dtype  \n",
            "---  ------    --------------  -----  \n",
            " 0   fLength   19020 non-null  float64\n",
            " 1   fWidth    19020 non-null  float64\n",
            " 2   fSize     19020 non-null  float64\n",
            " 3   fConc     19020 non-null  float64\n",
            " 4   fConc1    19020 non-null  float64\n",
            " 5   fAsym     19020 non-null  float64\n",
            " 6   fM3Long   19020 non-null  float64\n",
            " 7   fM3Trans  19020 non-null  float64\n",
            " 8   fAlpha    19020 non-null  float64\n",
            " 9   fDist     19020 non-null  float64\n",
            " 10  class     19020 non-null  object \n",
            "dtypes: float64(10), object(1)\n",
            "memory usage: 1.6+ MB\n"
          ]
        }
      ]
    },
    {
      "cell_type": "code",
      "source": [
        "df.describe()"
      ],
      "metadata": {
        "colab": {
          "base_uri": "https://localhost:8080/",
          "height": 300
        },
        "id": "4ftvTIEQE_Oc",
        "outputId": "c7788ab9-e79d-426e-8565-b542504b527f"
      },
      "execution_count": null,
      "outputs": [
        {
          "output_type": "execute_result",
          "data": {
            "text/plain": [
              "            fLength        fWidth         fSize         fConc        fConc1  \\\n",
              "count  19020.000000  19020.000000  19020.000000  19020.000000  19020.000000   \n",
              "mean      53.250154     22.180966      2.825017      0.380327      0.214657   \n",
              "std       42.364855     18.346056      0.472599      0.182813      0.110511   \n",
              "min        4.283500      0.000000      1.941300      0.013100      0.000300   \n",
              "25%       24.336000     11.863800      2.477100      0.235800      0.128475   \n",
              "50%       37.147700     17.139900      2.739600      0.354150      0.196500   \n",
              "75%       70.122175     24.739475      3.101600      0.503700      0.285225   \n",
              "max      334.177000    256.382000      5.323300      0.893000      0.675200   \n",
              "\n",
              "              fAsym       fM3Long      fM3Trans        fAlpha         fDist  \n",
              "count  19020.000000  19020.000000  19020.000000  19020.000000  19020.000000  \n",
              "mean      -4.331745     10.545545      0.249726     27.645707    193.818026  \n",
              "std       59.206062     51.000118     20.827439     26.103621     74.731787  \n",
              "min     -457.916100   -331.780000   -205.894700      0.000000      1.282600  \n",
              "25%      -20.586550    -12.842775    -10.849375      5.547925    142.492250  \n",
              "50%        4.013050     15.314100      0.666200     17.679500    191.851450  \n",
              "75%       24.063700     35.837800     10.946425     45.883550    240.563825  \n",
              "max      575.240700    238.321000    179.851000     90.000000    495.561000  "
            ],
            "text/html": [
              "\n",
              "  <div id=\"df-3df9ce13-d0b1-4dc6-9d14-f36bda79bd51\" class=\"colab-df-container\">\n",
              "    <div>\n",
              "<style scoped>\n",
              "    .dataframe tbody tr th:only-of-type {\n",
              "        vertical-align: middle;\n",
              "    }\n",
              "\n",
              "    .dataframe tbody tr th {\n",
              "        vertical-align: top;\n",
              "    }\n",
              "\n",
              "    .dataframe thead th {\n",
              "        text-align: right;\n",
              "    }\n",
              "</style>\n",
              "<table border=\"1\" class=\"dataframe\">\n",
              "  <thead>\n",
              "    <tr style=\"text-align: right;\">\n",
              "      <th></th>\n",
              "      <th>fLength</th>\n",
              "      <th>fWidth</th>\n",
              "      <th>fSize</th>\n",
              "      <th>fConc</th>\n",
              "      <th>fConc1</th>\n",
              "      <th>fAsym</th>\n",
              "      <th>fM3Long</th>\n",
              "      <th>fM3Trans</th>\n",
              "      <th>fAlpha</th>\n",
              "      <th>fDist</th>\n",
              "    </tr>\n",
              "  </thead>\n",
              "  <tbody>\n",
              "    <tr>\n",
              "      <th>count</th>\n",
              "      <td>19020.000000</td>\n",
              "      <td>19020.000000</td>\n",
              "      <td>19020.000000</td>\n",
              "      <td>19020.000000</td>\n",
              "      <td>19020.000000</td>\n",
              "      <td>19020.000000</td>\n",
              "      <td>19020.000000</td>\n",
              "      <td>19020.000000</td>\n",
              "      <td>19020.000000</td>\n",
              "      <td>19020.000000</td>\n",
              "    </tr>\n",
              "    <tr>\n",
              "      <th>mean</th>\n",
              "      <td>53.250154</td>\n",
              "      <td>22.180966</td>\n",
              "      <td>2.825017</td>\n",
              "      <td>0.380327</td>\n",
              "      <td>0.214657</td>\n",
              "      <td>-4.331745</td>\n",
              "      <td>10.545545</td>\n",
              "      <td>0.249726</td>\n",
              "      <td>27.645707</td>\n",
              "      <td>193.818026</td>\n",
              "    </tr>\n",
              "    <tr>\n",
              "      <th>std</th>\n",
              "      <td>42.364855</td>\n",
              "      <td>18.346056</td>\n",
              "      <td>0.472599</td>\n",
              "      <td>0.182813</td>\n",
              "      <td>0.110511</td>\n",
              "      <td>59.206062</td>\n",
              "      <td>51.000118</td>\n",
              "      <td>20.827439</td>\n",
              "      <td>26.103621</td>\n",
              "      <td>74.731787</td>\n",
              "    </tr>\n",
              "    <tr>\n",
              "      <th>min</th>\n",
              "      <td>4.283500</td>\n",
              "      <td>0.000000</td>\n",
              "      <td>1.941300</td>\n",
              "      <td>0.013100</td>\n",
              "      <td>0.000300</td>\n",
              "      <td>-457.916100</td>\n",
              "      <td>-331.780000</td>\n",
              "      <td>-205.894700</td>\n",
              "      <td>0.000000</td>\n",
              "      <td>1.282600</td>\n",
              "    </tr>\n",
              "    <tr>\n",
              "      <th>25%</th>\n",
              "      <td>24.336000</td>\n",
              "      <td>11.863800</td>\n",
              "      <td>2.477100</td>\n",
              "      <td>0.235800</td>\n",
              "      <td>0.128475</td>\n",
              "      <td>-20.586550</td>\n",
              "      <td>-12.842775</td>\n",
              "      <td>-10.849375</td>\n",
              "      <td>5.547925</td>\n",
              "      <td>142.492250</td>\n",
              "    </tr>\n",
              "    <tr>\n",
              "      <th>50%</th>\n",
              "      <td>37.147700</td>\n",
              "      <td>17.139900</td>\n",
              "      <td>2.739600</td>\n",
              "      <td>0.354150</td>\n",
              "      <td>0.196500</td>\n",
              "      <td>4.013050</td>\n",
              "      <td>15.314100</td>\n",
              "      <td>0.666200</td>\n",
              "      <td>17.679500</td>\n",
              "      <td>191.851450</td>\n",
              "    </tr>\n",
              "    <tr>\n",
              "      <th>75%</th>\n",
              "      <td>70.122175</td>\n",
              "      <td>24.739475</td>\n",
              "      <td>3.101600</td>\n",
              "      <td>0.503700</td>\n",
              "      <td>0.285225</td>\n",
              "      <td>24.063700</td>\n",
              "      <td>35.837800</td>\n",
              "      <td>10.946425</td>\n",
              "      <td>45.883550</td>\n",
              "      <td>240.563825</td>\n",
              "    </tr>\n",
              "    <tr>\n",
              "      <th>max</th>\n",
              "      <td>334.177000</td>\n",
              "      <td>256.382000</td>\n",
              "      <td>5.323300</td>\n",
              "      <td>0.893000</td>\n",
              "      <td>0.675200</td>\n",
              "      <td>575.240700</td>\n",
              "      <td>238.321000</td>\n",
              "      <td>179.851000</td>\n",
              "      <td>90.000000</td>\n",
              "      <td>495.561000</td>\n",
              "    </tr>\n",
              "  </tbody>\n",
              "</table>\n",
              "</div>\n",
              "    <div class=\"colab-df-buttons\">\n",
              "\n",
              "  <div class=\"colab-df-container\">\n",
              "    <button class=\"colab-df-convert\" onclick=\"convertToInteractive('df-3df9ce13-d0b1-4dc6-9d14-f36bda79bd51')\"\n",
              "            title=\"Convert this dataframe to an interactive table.\"\n",
              "            style=\"display:none;\">\n",
              "\n",
              "  <svg xmlns=\"http://www.w3.org/2000/svg\" height=\"24px\" viewBox=\"0 -960 960 960\">\n",
              "    <path d=\"M120-120v-720h720v720H120Zm60-500h600v-160H180v160Zm220 220h160v-160H400v160Zm0 220h160v-160H400v160ZM180-400h160v-160H180v160Zm440 0h160v-160H620v160ZM180-180h160v-160H180v160Zm440 0h160v-160H620v160Z\"/>\n",
              "  </svg>\n",
              "    </button>\n",
              "\n",
              "  <style>\n",
              "    .colab-df-container {\n",
              "      display:flex;\n",
              "      gap: 12px;\n",
              "    }\n",
              "\n",
              "    .colab-df-convert {\n",
              "      background-color: #E8F0FE;\n",
              "      border: none;\n",
              "      border-radius: 50%;\n",
              "      cursor: pointer;\n",
              "      display: none;\n",
              "      fill: #1967D2;\n",
              "      height: 32px;\n",
              "      padding: 0 0 0 0;\n",
              "      width: 32px;\n",
              "    }\n",
              "\n",
              "    .colab-df-convert:hover {\n",
              "      background-color: #E2EBFA;\n",
              "      box-shadow: 0px 1px 2px rgba(60, 64, 67, 0.3), 0px 1px 3px 1px rgba(60, 64, 67, 0.15);\n",
              "      fill: #174EA6;\n",
              "    }\n",
              "\n",
              "    .colab-df-buttons div {\n",
              "      margin-bottom: 4px;\n",
              "    }\n",
              "\n",
              "    [theme=dark] .colab-df-convert {\n",
              "      background-color: #3B4455;\n",
              "      fill: #D2E3FC;\n",
              "    }\n",
              "\n",
              "    [theme=dark] .colab-df-convert:hover {\n",
              "      background-color: #434B5C;\n",
              "      box-shadow: 0px 1px 3px 1px rgba(0, 0, 0, 0.15);\n",
              "      filter: drop-shadow(0px 1px 2px rgba(0, 0, 0, 0.3));\n",
              "      fill: #FFFFFF;\n",
              "    }\n",
              "  </style>\n",
              "\n",
              "    <script>\n",
              "      const buttonEl =\n",
              "        document.querySelector('#df-3df9ce13-d0b1-4dc6-9d14-f36bda79bd51 button.colab-df-convert');\n",
              "      buttonEl.style.display =\n",
              "        google.colab.kernel.accessAllowed ? 'block' : 'none';\n",
              "\n",
              "      async function convertToInteractive(key) {\n",
              "        const element = document.querySelector('#df-3df9ce13-d0b1-4dc6-9d14-f36bda79bd51');\n",
              "        const dataTable =\n",
              "          await google.colab.kernel.invokeFunction('convertToInteractive',\n",
              "                                                    [key], {});\n",
              "        if (!dataTable) return;\n",
              "\n",
              "        const docLinkHtml = 'Like what you see? Visit the ' +\n",
              "          '<a target=\"_blank\" href=https://colab.research.google.com/notebooks/data_table.ipynb>data table notebook</a>'\n",
              "          + ' to learn more about interactive tables.';\n",
              "        element.innerHTML = '';\n",
              "        dataTable['output_type'] = 'display_data';\n",
              "        await google.colab.output.renderOutput(dataTable, element);\n",
              "        const docLink = document.createElement('div');\n",
              "        docLink.innerHTML = docLinkHtml;\n",
              "        element.appendChild(docLink);\n",
              "      }\n",
              "    </script>\n",
              "  </div>\n",
              "\n",
              "\n",
              "<div id=\"df-9fdf5eea-80e2-4535-be11-6478ab780779\">\n",
              "  <button class=\"colab-df-quickchart\" onclick=\"quickchart('df-9fdf5eea-80e2-4535-be11-6478ab780779')\"\n",
              "            title=\"Suggest charts\"\n",
              "            style=\"display:none;\">\n",
              "\n",
              "<svg xmlns=\"http://www.w3.org/2000/svg\" height=\"24px\"viewBox=\"0 0 24 24\"\n",
              "     width=\"24px\">\n",
              "    <g>\n",
              "        <path d=\"M19 3H5c-1.1 0-2 .9-2 2v14c0 1.1.9 2 2 2h14c1.1 0 2-.9 2-2V5c0-1.1-.9-2-2-2zM9 17H7v-7h2v7zm4 0h-2V7h2v10zm4 0h-2v-4h2v4z\"/>\n",
              "    </g>\n",
              "</svg>\n",
              "  </button>\n",
              "\n",
              "<style>\n",
              "  .colab-df-quickchart {\n",
              "      --bg-color: #E8F0FE;\n",
              "      --fill-color: #1967D2;\n",
              "      --hover-bg-color: #E2EBFA;\n",
              "      --hover-fill-color: #174EA6;\n",
              "      --disabled-fill-color: #AAA;\n",
              "      --disabled-bg-color: #DDD;\n",
              "  }\n",
              "\n",
              "  [theme=dark] .colab-df-quickchart {\n",
              "      --bg-color: #3B4455;\n",
              "      --fill-color: #D2E3FC;\n",
              "      --hover-bg-color: #434B5C;\n",
              "      --hover-fill-color: #FFFFFF;\n",
              "      --disabled-bg-color: #3B4455;\n",
              "      --disabled-fill-color: #666;\n",
              "  }\n",
              "\n",
              "  .colab-df-quickchart {\n",
              "    background-color: var(--bg-color);\n",
              "    border: none;\n",
              "    border-radius: 50%;\n",
              "    cursor: pointer;\n",
              "    display: none;\n",
              "    fill: var(--fill-color);\n",
              "    height: 32px;\n",
              "    padding: 0;\n",
              "    width: 32px;\n",
              "  }\n",
              "\n",
              "  .colab-df-quickchart:hover {\n",
              "    background-color: var(--hover-bg-color);\n",
              "    box-shadow: 0 1px 2px rgba(60, 64, 67, 0.3), 0 1px 3px 1px rgba(60, 64, 67, 0.15);\n",
              "    fill: var(--button-hover-fill-color);\n",
              "  }\n",
              "\n",
              "  .colab-df-quickchart-complete:disabled,\n",
              "  .colab-df-quickchart-complete:disabled:hover {\n",
              "    background-color: var(--disabled-bg-color);\n",
              "    fill: var(--disabled-fill-color);\n",
              "    box-shadow: none;\n",
              "  }\n",
              "\n",
              "  .colab-df-spinner {\n",
              "    border: 2px solid var(--fill-color);\n",
              "    border-color: transparent;\n",
              "    border-bottom-color: var(--fill-color);\n",
              "    animation:\n",
              "      spin 1s steps(1) infinite;\n",
              "  }\n",
              "\n",
              "  @keyframes spin {\n",
              "    0% {\n",
              "      border-color: transparent;\n",
              "      border-bottom-color: var(--fill-color);\n",
              "      border-left-color: var(--fill-color);\n",
              "    }\n",
              "    20% {\n",
              "      border-color: transparent;\n",
              "      border-left-color: var(--fill-color);\n",
              "      border-top-color: var(--fill-color);\n",
              "    }\n",
              "    30% {\n",
              "      border-color: transparent;\n",
              "      border-left-color: var(--fill-color);\n",
              "      border-top-color: var(--fill-color);\n",
              "      border-right-color: var(--fill-color);\n",
              "    }\n",
              "    40% {\n",
              "      border-color: transparent;\n",
              "      border-right-color: var(--fill-color);\n",
              "      border-top-color: var(--fill-color);\n",
              "    }\n",
              "    60% {\n",
              "      border-color: transparent;\n",
              "      border-right-color: var(--fill-color);\n",
              "    }\n",
              "    80% {\n",
              "      border-color: transparent;\n",
              "      border-right-color: var(--fill-color);\n",
              "      border-bottom-color: var(--fill-color);\n",
              "    }\n",
              "    90% {\n",
              "      border-color: transparent;\n",
              "      border-bottom-color: var(--fill-color);\n",
              "    }\n",
              "  }\n",
              "</style>\n",
              "\n",
              "  <script>\n",
              "    async function quickchart(key) {\n",
              "      const quickchartButtonEl =\n",
              "        document.querySelector('#' + key + ' button');\n",
              "      quickchartButtonEl.disabled = true;  // To prevent multiple clicks.\n",
              "      quickchartButtonEl.classList.add('colab-df-spinner');\n",
              "      try {\n",
              "        const charts = await google.colab.kernel.invokeFunction(\n",
              "            'suggestCharts', [key], {});\n",
              "      } catch (error) {\n",
              "        console.error('Error during call to suggestCharts:', error);\n",
              "      }\n",
              "      quickchartButtonEl.classList.remove('colab-df-spinner');\n",
              "      quickchartButtonEl.classList.add('colab-df-quickchart-complete');\n",
              "    }\n",
              "    (() => {\n",
              "      let quickchartButtonEl =\n",
              "        document.querySelector('#df-9fdf5eea-80e2-4535-be11-6478ab780779 button');\n",
              "      quickchartButtonEl.style.display =\n",
              "        google.colab.kernel.accessAllowed ? 'block' : 'none';\n",
              "    })();\n",
              "  </script>\n",
              "</div>\n",
              "\n",
              "    </div>\n",
              "  </div>\n"
            ],
            "application/vnd.google.colaboratory.intrinsic+json": {
              "type": "dataframe",
              "summary": "{\n  \"name\": \"df\",\n  \"rows\": 8,\n  \"fields\": [\n    {\n      \"column\": \"fLength\",\n      \"properties\": {\n        \"dtype\": \"number\",\n        \"std\": 6696.840917057797,\n        \"min\": 4.2835,\n        \"max\": 19020.0,\n        \"num_unique_values\": 8,\n        \"samples\": [\n          53.25015392744479,\n          37.1477,\n          19020.0\n        ],\n        \"semantic_type\": \"\",\n        \"description\": \"\"\n      }\n    },\n    {\n      \"column\": \"fWidth\",\n      \"properties\": {\n        \"dtype\": \"number\",\n        \"std\": 6707.407803007008,\n        \"min\": 0.0,\n        \"max\": 19020.0,\n        \"num_unique_values\": 8,\n        \"samples\": [\n          22.180966219768667,\n          17.139899999999997,\n          19020.0\n        ],\n        \"semantic_type\": \"\",\n        \"description\": \"\"\n      }\n    },\n    {\n      \"column\": \"fSize\",\n      \"properties\": {\n        \"dtype\": \"number\",\n        \"std\": 6723.632013392717,\n        \"min\": 0.4725986486893078,\n        \"max\": 19020.0,\n        \"num_unique_values\": 8,\n        \"samples\": [\n          2.825016961093586,\n          2.7396,\n          19020.0\n        ],\n        \"semantic_type\": \"\",\n        \"description\": \"\"\n      }\n    },\n    {\n      \"column\": \"fConc\",\n      \"properties\": {\n        \"dtype\": \"number\",\n        \"std\": 6724.456048594846,\n        \"min\": 0.0131,\n        \"max\": 19020.0,\n        \"num_unique_values\": 8,\n        \"samples\": [\n          0.3803270715036804,\n          0.35415,\n          19020.0\n        ],\n        \"semantic_type\": \"\",\n        \"description\": \"\"\n      }\n    },\n    {\n      \"column\": \"fConc1\",\n      \"properties\": {\n        \"dtype\": \"number\",\n        \"std\": 6724.504130940715,\n        \"min\": 0.0003,\n        \"max\": 19020.0,\n        \"num_unique_values\": 8,\n        \"samples\": [\n          0.21465713459516297,\n          0.1965,\n          19020.0\n        ],\n        \"semantic_type\": \"\",\n        \"description\": \"\"\n      }\n    },\n    {\n      \"column\": \"fAsym\",\n      \"properties\": {\n        \"dtype\": \"number\",\n        \"std\": 6721.256518780928,\n        \"min\": -457.9161,\n        \"max\": 19020.0,\n        \"num_unique_values\": 8,\n        \"samples\": [\n          -4.331745157728706,\n          4.01305,\n          19020.0\n        ],\n        \"semantic_type\": \"\",\n        \"description\": \"\"\n      }\n    },\n    {\n      \"column\": \"fM3Long\",\n      \"properties\": {\n        \"dtype\": \"number\",\n        \"std\": 6726.081472362827,\n        \"min\": -331.78,\n        \"max\": 19020.0,\n        \"num_unique_values\": 8,\n        \"samples\": [\n          10.545544815983174,\n          15.3141,\n          19020.0\n        ],\n        \"semantic_type\": \"\",\n        \"description\": \"\"\n      }\n    },\n    {\n      \"column\": \"fM3Trans\",\n      \"properties\": {\n        \"dtype\": \"number\",\n        \"std\": 6725.598701373582,\n        \"min\": -205.8947,\n        \"max\": 19020.0,\n        \"num_unique_values\": 8,\n        \"samples\": [\n          0.2497259568874868,\n          0.6661999999999999,\n          19020.0\n        ],\n        \"semantic_type\": \"\",\n        \"description\": \"\"\n      }\n    },\n    {\n      \"column\": \"fAlpha\",\n      \"properties\": {\n        \"dtype\": \"number\",\n        \"std\": 6713.893163784881,\n        \"min\": 0.0,\n        \"max\": 19020.0,\n        \"num_unique_values\": 8,\n        \"samples\": [\n          27.645706677181913,\n          17.679499999999997,\n          19020.0\n        ],\n        \"semantic_type\": \"\",\n        \"description\": \"\"\n      }\n    },\n    {\n      \"column\": \"fDist\",\n      \"properties\": {\n        \"dtype\": \"number\",\n        \"std\": 6658.468107855445,\n        \"min\": 1.2826,\n        \"max\": 19020.0,\n        \"num_unique_values\": 8,\n        \"samples\": [\n          193.81802646687697,\n          191.85145,\n          19020.0\n        ],\n        \"semantic_type\": \"\",\n        \"description\": \"\"\n      }\n    }\n  ]\n}"
            }
          },
          "metadata": {},
          "execution_count": 4
        }
      ]
    },
    {
      "cell_type": "code",
      "source": [
        "df['class'].value_counts().plot(title = 'Original Dataset',kind = 'bar')"
      ],
      "metadata": {
        "colab": {
          "base_uri": "https://localhost:8080/",
          "height": 464
        },
        "id": "sUnT6D-xfOiJ",
        "outputId": "da840ed8-bb59-4b96-8da9-bbfeaa945256"
      },
      "execution_count": null,
      "outputs": [
        {
          "output_type": "execute_result",
          "data": {
            "text/plain": [
              "<Axes: title={'center': 'Original Dataset'}>"
            ]
          },
          "metadata": {},
          "execution_count": 5
        },
        {
          "output_type": "display_data",
          "data": {
            "text/plain": [
              "<Figure size 640x480 with 1 Axes>"
            ],
            "image/png": "[encoded data removed]"
          },
          "metadata": {}
        }
      ]
    },
    {
      "cell_type": "code",
      "source": [
        "df_gamma  = df[df[\"class\"] == 'g']\n",
        "df_hadron = df[df[\"class\"] == 'h']\n",
        "col_no = 0\n",
        "\n",
        "# Create a figure with 5 rows and 2 columns of subplots\n",
        "fig, axs = plt.subplots(5, 2, figsize=(20, 30))\n",
        "# for every label except \"class\", we plot the graph\n",
        "for i in range(5):\n",
        "  for j in range(2):\n",
        "    axs[i][j].hist(df_gamma[cols[col_no]], color = \"crimson\", label = \"gamma\", alpha = 1, density = True)\n",
        "    axs[i][j].hist(df_hadron[cols[col_no]], color = \"maroon\", label = \"hadron\", alpha = 0.7, density = True)\n",
        "    axs[i][j].set_title(cols[col_no])\n",
        "    axs[i][j].set_ylabel(\"Probability\")\n",
        "    axs[i][j].set_xlabel(cols[col_no])\n",
        "    axs[i][j].legend()\n",
        "    col_no = col_no + 1\n",
        "# Adjust layout to prevent overlap\n",
        "plt.tight_layout()\n",
        "# Display the figure\n",
        "plt.show()"
      ],
      "metadata": {
        "colab": {
          "base_uri": "https://localhost:8080/",
          "height": 1000
        },
        "id": "-uzl2FRWG6Tx",
        "outputId": "27685d96-0cde-4ea4-9439-331b33a51eb3"
      },
      "execution_count": null,
      "outputs": [
        {
          "output_type": "display_data",
          "data": {
            "text/plain": [
              "<Figure size 2000x3000 with 10 Axes>"
            ],
            "image/png": "[encoded data removed]"
          },
          "metadata": {}
        }
      ]
    },
    {
      "cell_type": "markdown",
      "source": [
        "### **1.4 Handle any missing values**"
      ],
      "metadata": {
        "id": "7L9B45nIHhdu"
      }
    },
    {
      "cell_type": "code",
      "source": [
        "# There are no missing values"
      ],
      "metadata": {
        "id": "T7tCk5MSHNf2"
      },
      "execution_count": null,
      "outputs": []
    },
    {
      "cell_type": "markdown",
      "source": [
        "### **1.5 Remove Duplicate Variables**"
      ],
      "metadata": {
        "id": "ixisQLYhJrav"
      }
    },
    {
      "cell_type": "code",
      "source": [
        "# The shape of the dataset before removing duplicates\n",
        "print(\"Shape of original dataset:\", df.shape)\n",
        "# Remove duplicate rows\n",
        "df = df.drop_duplicates()\n",
        "# The shape of the dataset after removing duplicates\n",
        "print(\"Shape of dataset after removing duplicates:\", df.shape)"
      ],
      "metadata": {
        "colab": {
          "base_uri": "https://localhost:8080/"
        },
        "id": "0rA5lr8nLZuO",
        "outputId": "93236308-a60e-4f07-b24e-2954d0786f97"
      },
      "execution_count": null,
      "outputs": [
        {
          "output_type": "stream",
          "name": "stdout",
          "text": [
            "Shape of original dataset: (19020, 11)\n",
            "Shape of dataset after removing duplicates: (18905, 11)\n"
          ]
        }
      ]
    },
    {
      "cell_type": "markdown",
      "source": [
        "### **1.6 Encode categorical variables**"
      ],
      "metadata": {
        "id": "4Zk3qesRI381"
      }
    },
    {
      "cell_type": "code",
      "source": [
        "# Only the target is a Categorical Variable"
      ],
      "metadata": {
        "id": "KFAXDaSxJY5t"
      },
      "execution_count": null,
      "outputs": []
    },
    {
      "cell_type": "markdown",
      "source": [
        "### **1.7 Removing Outliers**\n",
        "To remove outliers we will perform the following steps:\n",
        "1. Calculate Z- Scores for Features Set.\n",
        "2. The sign(+, -) of the Z- Score is not important for our calculation. Therefore we will find the absolute value of each Z- Score.\n",
        "3. We will find the max Z- Score for each row, so we will end up with a single column of Z- Scores containing only the max Z- Score.\n",
        "4. We will add this column to our dataset.\n",
        "5. We will remove any rows with a max Z- Score higher than the threshold.\n",
        "\n"
      ],
      "metadata": {
        "id": "Qd5aH1h6pYs-"
      }
    },
    {
      "cell_type": "code",
      "source": [
        "import numpy as np\n",
        "from scipy import stats\n",
        "\n",
        "print(\"Shape of original dataset:\", df.shape)"
      ],
      "metadata": {
        "colab": {
          "base_uri": "https://localhost:8080/"
        },
        "id": "vhfIfeNVprbu",
        "outputId": "ef96444f-875a-4064-ff2e-c6da4b7cd729"
      },
      "execution_count": null,
      "outputs": [
        {
          "output_type": "stream",
          "name": "stdout",
          "text": [
            "Shape of original dataset: (18905, 11)\n"
          ]
        }
      ]
    },
    {
      "cell_type": "code",
      "source": [
        "# Setting the threshold value\n",
        "threshold = 3\n",
        "# Seperating feature columns\n",
        "features = df.drop(columns = ['class'])\n",
        "# Calculating Z-Score for each value\n",
        "z_scores = stats.zscore(features)\n",
        "# Finding the absolute value of each Z- Score\n",
        "z_scores = z_scores.abs()\n",
        "# Finding the max Z- Score of each row\n",
        "z_scores = z_scores.max(axis=1)\n",
        "# Adding the max Z- Score column to the DataFrame\n",
        "df['max_z_score'] = z_scores\n",
        "# Removing Outliers\n",
        "df = df[df['max_z_score'] < 3]\n",
        "# Dropping the 'max_z_score' column\n",
        "df = df.drop(columns = ['max_z_score'])\n",
        "\n",
        "print(\"Shape of dataset after removing outliers:\", df.shape)"
      ],
      "metadata": {
        "colab": {
          "base_uri": "https://localhost:8080/"
        },
        "id": "9hJ9t_EQyARN",
        "outputId": "ab999900-c038-4024-b5a3-b78e57c2c96f"
      },
      "execution_count": null,
      "outputs": [
        {
          "output_type": "stream",
          "name": "stdout",
          "text": [
            "Shape of dataset after removing outliers: (17724, 11)\n"
          ]
        }
      ]
    },
    {
      "cell_type": "markdown",
      "source": [
        "### **1.8 Target-Feature Split**"
      ],
      "metadata": {
        "id": "2Faq4nZANMMM"
      }
    },
    {
      "cell_type": "code",
      "source": [
        "X = df.drop(columns = ['class'])\n",
        "y = df['class']"
      ],
      "metadata": {
        "id": "nQvZ6JBdNNj0"
      },
      "execution_count": null,
      "outputs": []
    },
    {
      "cell_type": "code",
      "source": [
        "X.sample(5)"
      ],
      "metadata": {
        "colab": {
          "base_uri": "https://localhost:8080/",
          "height": 206
        },
        "id": "uOeor8nhcO2A",
        "outputId": "2f0b1652-e978-4778-ec52-59d8e9849065"
      },
      "execution_count": null,
      "outputs": [
        {
          "output_type": "execute_result",
          "data": {
            "text/plain": [
              "       fLength   fWidth   fSize   fConc  fConc1    fAsym  fM3Long  fM3Trans  \\\n",
              "7013   26.8246  16.1468  2.7723  0.3970  0.2052 -36.8768 -17.0923    6.6114   \n",
              "16235  37.2836   8.9693  2.4609  0.4187  0.2301 -26.7824  20.3746   -6.8922   \n",
              "5704   24.3145   8.5484  2.3953  0.6076  0.4326 -12.0554 -13.3284   -3.0853   \n",
              "9680   90.5838  40.4816  3.4125  0.2089  0.1050 -91.0433 -46.4003   25.8974   \n",
              "5037   62.9257  26.6979  3.1224  0.2339  0.1188  24.5016  44.1640  -17.3309   \n",
              "\n",
              "        fAlpha    fDist  \n",
              "7013    3.7170  143.235  \n",
              "16235   9.3570  230.247  \n",
              "5704   25.4615  140.585  \n",
              "9680    4.5116  391.280  \n",
              "5037    8.6361  261.620  "
            ],
            "text/html": [
              "\n",
              "  <div id=\"df-94ad8d12-e9f2-41e8-993f-3bbcb873fdf8\" class=\"colab-df-container\">\n",
              "    <div>\n",
              "<style scoped>\n",
              "    .dataframe tbody tr th:only-of-type {\n",
              "        vertical-align: middle;\n",
              "    }\n",
              "\n",
              "    .dataframe tbody tr th {\n",
              "        vertical-align: top;\n",
              "    }\n",
              "\n",
              "    .dataframe thead th {\n",
              "        text-align: right;\n",
              "    }\n",
              "</style>\n",
              "<table border=\"1\" class=\"dataframe\">\n",
              "  <thead>\n",
              "    <tr style=\"text-align: right;\">\n",
              "      <th></th>\n",
              "      <th>fLength</th>\n",
              "      <th>fWidth</th>\n",
              "      <th>fSize</th>\n",
              "      <th>fConc</th>\n",
              "      <th>fConc1</th>\n",
              "      <th>fAsym</th>\n",
              "      <th>fM3Long</th>\n",
              "      <th>fM3Trans</th>\n",
              "      <th>fAlpha</th>\n",
              "      <th>fDist</th>\n",
              "    </tr>\n",
              "  </thead>\n",
              "  <tbody>\n",
              "    <tr>\n",
              "      <th>7013</th>\n",
              "      <td>26.8246</td>\n",
              "      <td>16.1468</td>\n",
              "      <td>2.7723</td>\n",
              "      <td>0.3970</td>\n",
              "      <td>0.2052</td>\n",
              "      <td>-36.8768</td>\n",
              "      <td>-17.0923</td>\n",
              "      <td>6.6114</td>\n",
              "      <td>3.7170</td>\n",
              "      <td>143.235</td>\n",
              "    </tr>\n",
              "    <tr>\n",
              "      <th>16235</th>\n",
              "      <td>37.2836</td>\n",
              "      <td>8.9693</td>\n",
              "      <td>2.4609</td>\n",
              "      <td>0.4187</td>\n",
              "      <td>0.2301</td>\n",
              "      <td>-26.7824</td>\n",
              "      <td>20.3746</td>\n",
              "      <td>-6.8922</td>\n",
              "      <td>9.3570</td>\n",
              "      <td>230.247</td>\n",
              "    </tr>\n",
              "    <tr>\n",
              "      <th>5704</th>\n",
              "      <td>24.3145</td>\n",
              "      <td>8.5484</td>\n",
              "      <td>2.3953</td>\n",
              "      <td>0.6076</td>\n",
              "      <td>0.4326</td>\n",
              "      <td>-12.0554</td>\n",
              "      <td>-13.3284</td>\n",
              "      <td>-3.0853</td>\n",
              "      <td>25.4615</td>\n",
              "      <td>140.585</td>\n",
              "    </tr>\n",
              "    <tr>\n",
              "      <th>9680</th>\n",
              "      <td>90.5838</td>\n",
              "      <td>40.4816</td>\n",
              "      <td>3.4125</td>\n",
              "      <td>0.2089</td>\n",
              "      <td>0.1050</td>\n",
              "      <td>-91.0433</td>\n",
              "      <td>-46.4003</td>\n",
              "      <td>25.8974</td>\n",
              "      <td>4.5116</td>\n",
              "      <td>391.280</td>\n",
              "    </tr>\n",
              "    <tr>\n",
              "      <th>5037</th>\n",
              "      <td>62.9257</td>\n",
              "      <td>26.6979</td>\n",
              "      <td>3.1224</td>\n",
              "      <td>0.2339</td>\n",
              "      <td>0.1188</td>\n",
              "      <td>24.5016</td>\n",
              "      <td>44.1640</td>\n",
              "      <td>-17.3309</td>\n",
              "      <td>8.6361</td>\n",
              "      <td>261.620</td>\n",
              "    </tr>\n",
              "  </tbody>\n",
              "</table>\n",
              "</div>\n",
              "    <div class=\"colab-df-buttons\">\n",
              "\n",
              "  <div class=\"colab-df-container\">\n",
              "    <button class=\"colab-df-convert\" onclick=\"convertToInteractive('df-94ad8d12-e9f2-41e8-993f-3bbcb873fdf8')\"\n",
              "            title=\"Convert this dataframe to an interactive table.\"\n",
              "            style=\"display:none;\">\n",
              "\n",
              "  <svg xmlns=\"http://www.w3.org/2000/svg\" height=\"24px\" viewBox=\"0 -960 960 960\">\n",
              "    <path d=\"M120-120v-720h720v720H120Zm60-500h600v-160H180v160Zm220 220h160v-160H400v160Zm0 220h160v-160H400v160ZM180-400h160v-160H180v160Zm440 0h160v-160H620v160ZM180-180h160v-160H180v160Zm440 0h160v-160H620v160Z\"/>\n",
              "  </svg>\n",
              "    </button>\n",
              "\n",
              "  <style>\n",
              "    .colab-df-container {\n",
              "      display:flex;\n",
              "      gap: 12px;\n",
              "    }\n",
              "\n",
              "    .colab-df-convert {\n",
              "      background-color: #E8F0FE;\n",
              "      border: none;\n",
              "      border-radius: 50%;\n",
              "      cursor: pointer;\n",
              "      display: none;\n",
              "      fill: #1967D2;\n",
              "      height: 32px;\n",
              "      padding: 0 0 0 0;\n",
              "      width: 32px;\n",
              "    }\n",
              "\n",
              "    .colab-df-convert:hover {\n",
              "      background-color: #E2EBFA;\n",
              "      box-shadow: 0px 1px 2px rgba(60, 64, 67, 0.3), 0px 1px 3px 1px rgba(60, 64, 67, 0.15);\n",
              "      fill: #174EA6;\n",
              "    }\n",
              "\n",
              "    .colab-df-buttons div {\n",
              "      margin-bottom: 4px;\n",
              "    }\n",
              "\n",
              "    [theme=dark] .colab-df-convert {\n",
              "      background-color: #3B4455;\n",
              "      fill: #D2E3FC;\n",
              "    }\n",
              "\n",
              "    [theme=dark] .colab-df-convert:hover {\n",
              "      background-color: #434B5C;\n",
              "      box-shadow: 0px 1px 3px 1px rgba(0, 0, 0, 0.15);\n",
              "      filter: drop-shadow(0px 1px 2px rgba(0, 0, 0, 0.3));\n",
              "      fill: #FFFFFF;\n",
              "    }\n",
              "  </style>\n",
              "\n",
              "    <script>\n",
              "      const buttonEl =\n",
              "        document.querySelector('#df-94ad8d12-e9f2-41e8-993f-3bbcb873fdf8 button.colab-df-convert');\n",
              "      buttonEl.style.display =\n",
              "        google.colab.kernel.accessAllowed ? 'block' : 'none';\n",
              "\n",
              "      async function convertToInteractive(key) {\n",
              "        const element = document.querySelector('#df-94ad8d12-e9f2-41e8-993f-3bbcb873fdf8');\n",
              "        const dataTable =\n",
              "          await google.colab.kernel.invokeFunction('convertToInteractive',\n",
              "                                                    [key], {});\n",
              "        if (!dataTable) return;\n",
              "\n",
              "        const docLinkHtml = 'Like what you see? Visit the ' +\n",
              "          '<a target=\"_blank\" href=https://colab.research.google.com/notebooks/data_table.ipynb>data table notebook</a>'\n",
              "          + ' to learn more about interactive tables.';\n",
              "        element.innerHTML = '';\n",
              "        dataTable['output_type'] = 'display_data';\n",
              "        await google.colab.output.renderOutput(dataTable, element);\n",
              "        const docLink = document.createElement('div');\n",
              "        docLink.innerHTML = docLinkHtml;\n",
              "        element.appendChild(docLink);\n",
              "      }\n",
              "    </script>\n",
              "  </div>\n",
              "\n",
              "\n",
              "<div id=\"df-30a601fc-66d1-43cc-ae1e-4ac0474e6c6f\">\n",
              "  <button class=\"colab-df-quickchart\" onclick=\"quickchart('df-30a601fc-66d1-43cc-ae1e-4ac0474e6c6f')\"\n",
              "            title=\"Suggest charts\"\n",
              "            style=\"display:none;\">\n",
              "\n",
              "<svg xmlns=\"http://www.w3.org/2000/svg\" height=\"24px\"viewBox=\"0 0 24 24\"\n",
              "     width=\"24px\">\n",
              "    <g>\n",
              "        <path d=\"M19 3H5c-1.1 0-2 .9-2 2v14c0 1.1.9 2 2 2h14c1.1 0 2-.9 2-2V5c0-1.1-.9-2-2-2zM9 17H7v-7h2v7zm4 0h-2V7h2v10zm4 0h-2v-4h2v4z\"/>\n",
              "    </g>\n",
              "</svg>\n",
              "  </button>\n",
              "\n",
              "<style>\n",
              "  .colab-df-quickchart {\n",
              "      --bg-color: #E8F0FE;\n",
              "      --fill-color: #1967D2;\n",
              "      --hover-bg-color: #E2EBFA;\n",
              "      --hover-fill-color: #174EA6;\n",
              "      --disabled-fill-color: #AAA;\n",
              "      --disabled-bg-color: #DDD;\n",
              "  }\n",
              "\n",
              "  [theme=dark] .colab-df-quickchart {\n",
              "      --bg-color: #3B4455;\n",
              "      --fill-color: #D2E3FC;\n",
              "      --hover-bg-color: #434B5C;\n",
              "      --hover-fill-color: #FFFFFF;\n",
              "      --disabled-bg-color: #3B4455;\n",
              "      --disabled-fill-color: #666;\n",
              "  }\n",
              "\n",
              "  .colab-df-quickchart {\n",
              "    background-color: var(--bg-color);\n",
              "    border: none;\n",
              "    border-radius: 50%;\n",
              "    cursor: pointer;\n",
              "    display: none;\n",
              "    fill: var(--fill-color);\n",
              "    height: 32px;\n",
              "    padding: 0;\n",
              "    width: 32px;\n",
              "  }\n",
              "\n",
              "  .colab-df-quickchart:hover {\n",
              "    background-color: var(--hover-bg-color);\n",
              "    box-shadow: 0 1px 2px rgba(60, 64, 67, 0.3), 0 1px 3px 1px rgba(60, 64, 67, 0.15);\n",
              "    fill: var(--button-hover-fill-color);\n",
              "  }\n",
              "\n",
              "  .colab-df-quickchart-complete:disabled,\n",
              "  .colab-df-quickchart-complete:disabled:hover {\n",
              "    background-color: var(--disabled-bg-color);\n",
              "    fill: var(--disabled-fill-color);\n",
              "    box-shadow: none;\n",
              "  }\n",
              "\n",
              "  .colab-df-spinner {\n",
              "    border: 2px solid var(--fill-color);\n",
              "    border-color: transparent;\n",
              "    border-bottom-color: var(--fill-color);\n",
              "    animation:\n",
              "      spin 1s steps(1) infinite;\n",
              "  }\n",
              "\n",
              "  @keyframes spin {\n",
              "    0% {\n",
              "      border-color: transparent;\n",
              "      border-bottom-color: var(--fill-color);\n",
              "      border-left-color: var(--fill-color);\n",
              "    }\n",
              "    20% {\n",
              "      border-color: transparent;\n",
              "      border-left-color: var(--fill-color);\n",
              "      border-top-color: var(--fill-color);\n",
              "    }\n",
              "    30% {\n",
              "      border-color: transparent;\n",
              "      border-left-color: var(--fill-color);\n",
              "      border-top-color: var(--fill-color);\n",
              "      border-right-color: var(--fill-color);\n",
              "    }\n",
              "    40% {\n",
              "      border-color: transparent;\n",
              "      border-right-color: var(--fill-color);\n",
              "      border-top-color: var(--fill-color);\n",
              "    }\n",
              "    60% {\n",
              "      border-color: transparent;\n",
              "      border-right-color: var(--fill-color);\n",
              "    }\n",
              "    80% {\n",
              "      border-color: transparent;\n",
              "      border-right-color: var(--fill-color);\n",
              "      border-bottom-color: var(--fill-color);\n",
              "    }\n",
              "    90% {\n",
              "      border-color: transparent;\n",
              "      border-bottom-color: var(--fill-color);\n",
              "    }\n",
              "  }\n",
              "</style>\n",
              "\n",
              "  <script>\n",
              "    async function quickchart(key) {\n",
              "      const quickchartButtonEl =\n",
              "        document.querySelector('#' + key + ' button');\n",
              "      quickchartButtonEl.disabled = true;  // To prevent multiple clicks.\n",
              "      quickchartButtonEl.classList.add('colab-df-spinner');\n",
              "      try {\n",
              "        const charts = await google.colab.kernel.invokeFunction(\n",
              "            'suggestCharts', [key], {});\n",
              "      } catch (error) {\n",
              "        console.error('Error during call to suggestCharts:', error);\n",
              "      }\n",
              "      quickchartButtonEl.classList.remove('colab-df-spinner');\n",
              "      quickchartButtonEl.classList.add('colab-df-quickchart-complete');\n",
              "    }\n",
              "    (() => {\n",
              "      let quickchartButtonEl =\n",
              "        document.querySelector('#df-30a601fc-66d1-43cc-ae1e-4ac0474e6c6f button');\n",
              "      quickchartButtonEl.style.display =\n",
              "        google.colab.kernel.accessAllowed ? 'block' : 'none';\n",
              "    })();\n",
              "  </script>\n",
              "</div>\n",
              "\n",
              "    </div>\n",
              "  </div>\n"
            ],
            "application/vnd.google.colaboratory.intrinsic+json": {
              "type": "dataframe",
              "summary": "{\n  \"name\": \"X\",\n  \"rows\": 5,\n  \"fields\": [\n    {\n      \"column\": \"fLength\",\n      \"properties\": {\n        \"dtype\": \"number\",\n        \"std\": 28.105389020310675,\n        \"min\": 24.3145,\n        \"max\": 90.5838,\n        \"num_unique_values\": 5,\n        \"samples\": [\n          37.2836,\n          62.9257,\n          24.3145\n        ],\n        \"semantic_type\": \"\",\n        \"description\": \"\"\n      }\n    },\n    {\n      \"column\": \"fWidth\",\n      \"properties\": {\n        \"dtype\": \"number\",\n        \"std\": 13.526621631619626,\n        \"min\": 8.5484,\n        \"max\": 40.4816,\n        \"num_unique_values\": 5,\n        \"samples\": [\n          8.9693,\n          26.6979,\n          8.5484\n        ],\n        \"semantic_type\": \"\",\n        \"description\": \"\"\n      }\n    },\n    {\n      \"column\": \"fSize\",\n      \"properties\": {\n        \"dtype\": \"number\",\n        \"std\": 0.4339632150309516,\n        \"min\": 2.3953,\n        \"max\": 3.4125,\n        \"num_unique_values\": 5,\n        \"samples\": [\n          2.4609,\n          3.1224,\n          2.3953\n        ],\n        \"semantic_type\": \"\",\n        \"description\": \"\"\n      }\n    },\n    {\n      \"column\": \"fConc\",\n      \"properties\": {\n        \"dtype\": \"number\",\n        \"std\": 0.16122889629343742,\n        \"min\": 0.2089,\n        \"max\": 0.6076,\n        \"num_unique_values\": 5,\n        \"samples\": [\n          0.4187,\n          0.2339,\n          0.6076\n        ],\n        \"semantic_type\": \"\",\n        \"description\": \"\"\n      }\n    },\n    {\n      \"column\": \"fConc1\",\n      \"properties\": {\n        \"dtype\": \"number\",\n        \"std\": 0.13131305342577332,\n        \"min\": 0.105,\n        \"max\": 0.4326,\n        \"num_unique_values\": 5,\n        \"samples\": [\n          0.2301,\n          0.1188,\n          0.4326\n        ],\n        \"semantic_type\": \"\",\n        \"description\": \"\"\n      }\n    },\n    {\n      \"column\": \"fAsym\",\n      \"properties\": {\n        \"dtype\": \"number\",\n        \"std\": 42.024897075043505,\n        \"min\": -91.0433,\n        \"max\": 24.5016,\n        \"num_unique_values\": 5,\n        \"samples\": [\n          -26.7824,\n          24.5016,\n          -12.0554\n        ],\n        \"semantic_type\": \"\",\n        \"description\": \"\"\n      }\n    },\n    {\n      \"column\": \"fM3Long\",\n      \"properties\": {\n        \"dtype\": \"number\",\n        \"std\": 35.20721714772413,\n        \"min\": -46.4003,\n        \"max\": 44.164,\n        \"num_unique_values\": 5,\n        \"samples\": [\n          20.3746,\n          44.164,\n          -13.3284\n        ],\n        \"semantic_type\": \"\",\n        \"description\": \"\"\n      }\n    },\n    {\n      \"column\": \"fM3Trans\",\n      \"properties\": {\n        \"dtype\": \"number\",\n        \"std\": 16.32757404230647,\n        \"min\": -17.3309,\n        \"max\": 25.8974,\n        \"num_unique_values\": 5,\n        \"samples\": [\n          -6.8922,\n          -17.3309,\n          -3.0853\n        ],\n        \"semantic_type\": \"\",\n        \"description\": \"\"\n      }\n    },\n    {\n      \"column\": \"fAlpha\",\n      \"properties\": {\n        \"dtype\": \"number\",\n        \"std\": 8.808570337631414,\n        \"min\": 3.717,\n        \"max\": 25.4615,\n        \"num_unique_values\": 5,\n        \"samples\": [\n          9.357,\n          8.6361,\n          25.4615\n        ],\n        \"semantic_type\": \"\",\n        \"description\": \"\"\n      }\n    },\n    {\n      \"column\": \"fDist\",\n      \"properties\": {\n        \"dtype\": \"number\",\n        \"std\": 103.0494486171566,\n        \"min\": 140.585,\n        \"max\": 391.28,\n        \"num_unique_values\": 5,\n        \"samples\": [\n          230.247,\n          261.62,\n          140.585\n        ],\n        \"semantic_type\": \"\",\n        \"description\": \"\"\n      }\n    }\n  ]\n}"
            }
          },
          "metadata": {},
          "execution_count": 13
        }
      ]
    },
    {
      "cell_type": "code",
      "source": [
        "y.sample(5)"
      ],
      "metadata": {
        "colab": {
          "base_uri": "https://localhost:8080/"
        },
        "id": "-P-C2gZSd3jg",
        "outputId": "7e0b6d96-a4fe-4d45-e441-695bc70b6696"
      },
      "execution_count": null,
      "outputs": [
        {
          "output_type": "execute_result",
          "data": {
            "text/plain": [
              "12060    g\n",
              "1107     g\n",
              "2755     g\n",
              "12860    h\n",
              "11298    g\n",
              "Name: class, dtype: object"
            ]
          },
          "metadata": {},
          "execution_count": 14
        }
      ]
    },
    {
      "cell_type": "markdown",
      "source": [
        "### **1.9 Balancing Imbalanced Datasets using SMOTE Oversampling**"
      ],
      "metadata": {
        "id": "O3ZAJc5ghePe"
      }
    },
    {
      "cell_type": "code",
      "source": [
        "# We will be using the Synthetic Minority Over-sampling Technique (SMOTE).\n",
        "# SMOTE generates synthetic samples for the minority class by interpolating between existing samples.\n",
        "from imblearn.over_sampling import SMOTE\n",
        "smote = SMOTE()\n",
        "X, y = smote.fit_resample(X, y)\n",
        "y.value_counts().plot(title = 'Oversampled Dataset',kind = 'bar')"
      ],
      "metadata": {
        "colab": {
          "base_uri": "https://localhost:8080/",
          "height": 464
        },
        "id": "AikJKl3ehfvk",
        "outputId": "7d2fc4fe-3d10-4389-da98-1a6fec92eebb"
      },
      "execution_count": null,
      "outputs": [
        {
          "output_type": "execute_result",
          "data": {
            "text/plain": [
              "<Axes: title={'center': 'Oversampled Dataset'}>"
            ]
          },
          "metadata": {},
          "execution_count": 15
        },
        {
          "output_type": "display_data",
          "data": {
            "text/plain": [
              "<Figure size 640x480 with 1 Axes>"
            ],
            "image/png": "[encoded data removed]"
          },
          "metadata": {}
        }
      ]
    },
    {
      "cell_type": "markdown",
      "source": [
        "### **1.10 Train-Test Split**"
      ],
      "metadata": {
        "id": "TRyql4Rgd8NO"
      }
    },
    {
      "cell_type": "code",
      "source": [
        "from sklearn.model_selection import train_test_split\n",
        "# 80% of the Dataset will be used to train the model\n",
        "X_train, X_test, y_train, y_test = train_test_split(X, y, test_size = 0.2, random_state = 42)"
      ],
      "metadata": {
        "id": "1s0o3HYTd4sD"
      },
      "execution_count": null,
      "outputs": []
    },
    {
      "cell_type": "markdown",
      "source": [
        "## **2. Data Preprocessing**"
      ],
      "metadata": {
        "id": "PE1pPjoBeSRy"
      }
    },
    {
      "cell_type": "markdown",
      "source": [
        "### **1.1 Feature Scaling**"
      ],
      "metadata": {
        "id": "ac-3As7se0Ce"
      }
    },
    {
      "cell_type": "code",
      "source": [
        "X_train.sample(5)"
      ],
      "metadata": {
        "colab": {
          "base_uri": "https://localhost:8080/",
          "height": 206
        },
        "id": "g-Xlgu6X1CKQ",
        "outputId": "1cb91faf-0996-4c44-a8dd-5d3480d45b43"
      },
      "execution_count": null,
      "outputs": [
        {
          "output_type": "execute_result",
          "data": {
            "text/plain": [
              "         fLength     fWidth     fSize     fConc    fConc1     fAsym  \\\n",
              "13704  25.248800   7.371500  2.198700  0.624200  0.370200  19.19110   \n",
              "13490  18.493200  16.936900  2.783500  0.451300  0.230000   7.98210   \n",
              "19271  38.739639   8.797677  2.601963  0.439151  0.270856  20.37044   \n",
              "106    33.587400  17.460000  2.582100  0.397900  0.213400 -49.02960   \n",
              "12166  57.063400  19.165100  2.920900  0.190800  0.101400  25.57840   \n",
              "\n",
              "         fM3Long   fM3Trans     fAlpha      fDist  \n",
              "13704  33.676700  16.132000  72.694200  216.25200  \n",
              "13490 -21.905400   7.690800  44.625000   75.02250  \n",
              "19271  25.500732 -13.790798  42.308227  234.18095  \n",
              "106    -7.651400   5.127000  25.657000  166.95000  \n",
              "12166 -25.371800 -10.104600   4.181000  236.13700  "
            ],
            "text/html": [
              "\n",
              "  <div id=\"df-c565d530-42e0-42cc-ae08-9ac70e6d3a39\" class=\"colab-df-container\">\n",
              "    <div>\n",
              "<style scoped>\n",
              "    .dataframe tbody tr th:only-of-type {\n",
              "        vertical-align: middle;\n",
              "    }\n",
              "\n",
              "    .dataframe tbody tr th {\n",
              "        vertical-align: top;\n",
              "    }\n",
              "\n",
              "    .dataframe thead th {\n",
              "        text-align: right;\n",
              "    }\n",
              "</style>\n",
              "<table border=\"1\" class=\"dataframe\">\n",
              "  <thead>\n",
              "    <tr style=\"text-align: right;\">\n",
              "      <th></th>\n",
              "      <th>fLength</th>\n",
              "      <th>fWidth</th>\n",
              "      <th>fSize</th>\n",
              "      <th>fConc</th>\n",
              "      <th>fConc1</th>\n",
              "      <th>fAsym</th>\n",
              "      <th>fM3Long</th>\n",
              "      <th>fM3Trans</th>\n",
              "      <th>fAlpha</th>\n",
              "      <th>fDist</th>\n",
              "    </tr>\n",
              "  </thead>\n",
              "  <tbody>\n",
              "    <tr>\n",
              "      <th>13704</th>\n",
              "      <td>25.248800</td>\n",
              "      <td>7.371500</td>\n",
              "      <td>2.198700</td>\n",
              "      <td>0.624200</td>\n",
              "      <td>0.370200</td>\n",
              "      <td>19.19110</td>\n",
              "      <td>33.676700</td>\n",
              "      <td>16.132000</td>\n",
              "      <td>72.694200</td>\n",
              "      <td>216.25200</td>\n",
              "    </tr>\n",
              "    <tr>\n",
              "      <th>13490</th>\n",
              "      <td>18.493200</td>\n",
              "      <td>16.936900</td>\n",
              "      <td>2.783500</td>\n",
              "      <td>0.451300</td>\n",
              "      <td>0.230000</td>\n",
              "      <td>7.98210</td>\n",
              "      <td>-21.905400</td>\n",
              "      <td>7.690800</td>\n",
              "      <td>44.625000</td>\n",
              "      <td>75.02250</td>\n",
              "    </tr>\n",
              "    <tr>\n",
              "      <th>19271</th>\n",
              "      <td>38.739639</td>\n",
              "      <td>8.797677</td>\n",
              "      <td>2.601963</td>\n",
              "      <td>0.439151</td>\n",
              "      <td>0.270856</td>\n",
              "      <td>20.37044</td>\n",
              "      <td>25.500732</td>\n",
              "      <td>-13.790798</td>\n",
              "      <td>42.308227</td>\n",
              "      <td>234.18095</td>\n",
              "    </tr>\n",
              "    <tr>\n",
              "      <th>106</th>\n",
              "      <td>33.587400</td>\n",
              "      <td>17.460000</td>\n",
              "      <td>2.582100</td>\n",
              "      <td>0.397900</td>\n",
              "      <td>0.213400</td>\n",
              "      <td>-49.02960</td>\n",
              "      <td>-7.651400</td>\n",
              "      <td>5.127000</td>\n",
              "      <td>25.657000</td>\n",
              "      <td>166.95000</td>\n",
              "    </tr>\n",
              "    <tr>\n",
              "      <th>12166</th>\n",
              "      <td>57.063400</td>\n",
              "      <td>19.165100</td>\n",
              "      <td>2.920900</td>\n",
              "      <td>0.190800</td>\n",
              "      <td>0.101400</td>\n",
              "      <td>25.57840</td>\n",
              "      <td>-25.371800</td>\n",
              "      <td>-10.104600</td>\n",
              "      <td>4.181000</td>\n",
              "      <td>236.13700</td>\n",
              "    </tr>\n",
              "  </tbody>\n",
              "</table>\n",
              "</div>\n",
              "    <div class=\"colab-df-buttons\">\n",
              "\n",
              "  <div class=\"colab-df-container\">\n",
              "    <button class=\"colab-df-convert\" onclick=\"convertToInteractive('df-c565d530-42e0-42cc-ae08-9ac70e6d3a39')\"\n",
              "            title=\"Convert this dataframe to an interactive table.\"\n",
              "            style=\"display:none;\">\n",
              "\n",
              "  <svg xmlns=\"http://www.w3.org/2000/svg\" height=\"24px\" viewBox=\"0 -960 960 960\">\n",
              "    <path d=\"M120-120v-720h720v720H120Zm60-500h600v-160H180v160Zm220 220h160v-160H400v160Zm0 220h160v-160H400v160ZM180-400h160v-160H180v160Zm440 0h160v-160H620v160ZM180-180h160v-160H180v160Zm440 0h160v-160H620v160Z\"/>\n",
              "  </svg>\n",
              "    </button>\n",
              "\n",
              "  <style>\n",
              "    .colab-df-container {\n",
              "      display:flex;\n",
              "      gap: 12px;\n",
              "    }\n",
              "\n",
              "    .colab-df-convert {\n",
              "      background-color: #E8F0FE;\n",
              "      border: none;\n",
              "      border-radius: 50%;\n",
              "      cursor: pointer;\n",
              "      display: none;\n",
              "      fill: #1967D2;\n",
              "      height: 32px;\n",
              "      padding: 0 0 0 0;\n",
              "      width: 32px;\n",
              "    }\n",
              "\n",
              "    .colab-df-convert:hover {\n",
              "      background-color: #E2EBFA;\n",
              "      box-shadow: 0px 1px 2px rgba(60, 64, 67, 0.3), 0px 1px 3px 1px rgba(60, 64, 67, 0.15);\n",
              "      fill: #174EA6;\n",
              "    }\n",
              "\n",
              "    .colab-df-buttons div {\n",
              "      margin-bottom: 4px;\n",
              "    }\n",
              "\n",
              "    [theme=dark] .colab-df-convert {\n",
              "      background-color: #3B4455;\n",
              "      fill: #D2E3FC;\n",
              "    }\n",
              "\n",
              "    [theme=dark] .colab-df-convert:hover {\n",
              "      background-color: #434B5C;\n",
              "      box-shadow: 0px 1px 3px 1px rgba(0, 0, 0, 0.15);\n",
              "      filter: drop-shadow(0px 1px 2px rgba(0, 0, 0, 0.3));\n",
              "      fill: #FFFFFF;\n",
              "    }\n",
              "  </style>\n",
              "\n",
              "    <script>\n",
              "      const buttonEl =\n",
              "        document.querySelector('#df-c565d530-42e0-42cc-ae08-9ac70e6d3a39 button.colab-df-convert');\n",
              "      buttonEl.style.display =\n",
              "        google.colab.kernel.accessAllowed ? 'block' : 'none';\n",
              "\n",
              "      async function convertToInteractive(key) {\n",
              "        const element = document.querySelector('#df-c565d530-42e0-42cc-ae08-9ac70e6d3a39');\n",
              "        const dataTable =\n",
              "          await google.colab.kernel.invokeFunction('convertToInteractive',\n",
              "                                                    [key], {});\n",
              "        if (!dataTable) return;\n",
              "\n",
              "        const docLinkHtml = 'Like what you see? Visit the ' +\n",
              "          '<a target=\"_blank\" href=https://colab.research.google.com/notebooks/data_table.ipynb>data table notebook</a>'\n",
              "          + ' to learn more about interactive tables.';\n",
              "        element.innerHTML = '';\n",
              "        dataTable['output_type'] = 'display_data';\n",
              "        await google.colab.output.renderOutput(dataTable, element);\n",
              "        const docLink = document.createElement('div');\n",
              "        docLink.innerHTML = docLinkHtml;\n",
              "        element.appendChild(docLink);\n",
              "      }\n",
              "    </script>\n",
              "  </div>\n",
              "\n",
              "\n",
              "<div id=\"df-8ce99bfd-1e7b-4c92-9528-5cab9fa88049\">\n",
              "  <button class=\"colab-df-quickchart\" onclick=\"quickchart('df-8ce99bfd-1e7b-4c92-9528-5cab9fa88049')\"\n",
              "            title=\"Suggest charts\"\n",
              "            style=\"display:none;\">\n",
              "\n",
              "<svg xmlns=\"http://www.w3.org/2000/svg\" height=\"24px\"viewBox=\"0 0 24 24\"\n",
              "     width=\"24px\">\n",
              "    <g>\n",
              "        <path d=\"M19 3H5c-1.1 0-2 .9-2 2v14c0 1.1.9 2 2 2h14c1.1 0 2-.9 2-2V5c0-1.1-.9-2-2-2zM9 17H7v-7h2v7zm4 0h-2V7h2v10zm4 0h-2v-4h2v4z\"/>\n",
              "    </g>\n",
              "</svg>\n",
              "  </button>\n",
              "\n",
              "<style>\n",
              "  .colab-df-quickchart {\n",
              "      --bg-color: #E8F0FE;\n",
              "      --fill-color: #1967D2;\n",
              "      --hover-bg-color: #E2EBFA;\n",
              "      --hover-fill-color: #174EA6;\n",
              "      --disabled-fill-color: #AAA;\n",
              "      --disabled-bg-color: #DDD;\n",
              "  }\n",
              "\n",
              "  [theme=dark] .colab-df-quickchart {\n",
              "      --bg-color: #3B4455;\n",
              "      --fill-color: #D2E3FC;\n",
              "      --hover-bg-color: #434B5C;\n",
              "      --hover-fill-color: #FFFFFF;\n",
              "      --disabled-bg-color: #3B4455;\n",
              "      --disabled-fill-color: #666;\n",
              "  }\n",
              "\n",
              "  .colab-df-quickchart {\n",
              "    background-color: var(--bg-color);\n",
              "    border: none;\n",
              "    border-radius: 50%;\n",
              "    cursor: pointer;\n",
              "    display: none;\n",
              "    fill: var(--fill-color);\n",
              "    height: 32px;\n",
              "    padding: 0;\n",
              "    width: 32px;\n",
              "  }\n",
              "\n",
              "  .colab-df-quickchart:hover {\n",
              "    background-color: var(--hover-bg-color);\n",
              "    box-shadow: 0 1px 2px rgba(60, 64, 67, 0.3), 0 1px 3px 1px rgba(60, 64, 67, 0.15);\n",
              "    fill: var(--button-hover-fill-color);\n",
              "  }\n",
              "\n",
              "  .colab-df-quickchart-complete:disabled,\n",
              "  .colab-df-quickchart-complete:disabled:hover {\n",
              "    background-color: var(--disabled-bg-color);\n",
              "    fill: var(--disabled-fill-color);\n",
              "    box-shadow: none;\n",
              "  }\n",
              "\n",
              "  .colab-df-spinner {\n",
              "    border: 2px solid var(--fill-color);\n",
              "    border-color: transparent;\n",
              "    border-bottom-color: var(--fill-color);\n",
              "    animation:\n",
              "      spin 1s steps(1) infinite;\n",
              "  }\n",
              "\n",
              "  @keyframes spin {\n",
              "    0% {\n",
              "      border-color: transparent;\n",
              "      border-bottom-color: var(--fill-color);\n",
              "      border-left-color: var(--fill-color);\n",
              "    }\n",
              "    20% {\n",
              "      border-color: transparent;\n",
              "      border-left-color: var(--fill-color);\n",
              "      border-top-color: var(--fill-color);\n",
              "    }\n",
              "    30% {\n",
              "      border-color: transparent;\n",
              "      border-left-color: var(--fill-color);\n",
              "      border-top-color: var(--fill-color);\n",
              "      border-right-color: var(--fill-color);\n",
              "    }\n",
              "    40% {\n",
              "      border-color: transparent;\n",
              "      border-right-color: var(--fill-color);\n",
              "      border-top-color: var(--fill-color);\n",
              "    }\n",
              "    60% {\n",
              "      border-color: transparent;\n",
              "      border-right-color: var(--fill-color);\n",
              "    }\n",
              "    80% {\n",
              "      border-color: transparent;\n",
              "      border-right-color: var(--fill-color);\n",
              "      border-bottom-color: var(--fill-color);\n",
              "    }\n",
              "    90% {\n",
              "      border-color: transparent;\n",
              "      border-bottom-color: var(--fill-color);\n",
              "    }\n",
              "  }\n",
              "</style>\n",
              "\n",
              "  <script>\n",
              "    async function quickchart(key) {\n",
              "      const quickchartButtonEl =\n",
              "        document.querySelector('#' + key + ' button');\n",
              "      quickchartButtonEl.disabled = true;  // To prevent multiple clicks.\n",
              "      quickchartButtonEl.classList.add('colab-df-spinner');\n",
              "      try {\n",
              "        const charts = await google.colab.kernel.invokeFunction(\n",
              "            'suggestCharts', [key], {});\n",
              "      } catch (error) {\n",
              "        console.error('Error during call to suggestCharts:', error);\n",
              "      }\n",
              "      quickchartButtonEl.classList.remove('colab-df-spinner');\n",
              "      quickchartButtonEl.classList.add('colab-df-quickchart-complete');\n",
              "    }\n",
              "    (() => {\n",
              "      let quickchartButtonEl =\n",
              "        document.querySelector('#df-8ce99bfd-1e7b-4c92-9528-5cab9fa88049 button');\n",
              "      quickchartButtonEl.style.display =\n",
              "        google.colab.kernel.accessAllowed ? 'block' : 'none';\n",
              "    })();\n",
              "  </script>\n",
              "</div>\n",
              "\n",
              "    </div>\n",
              "  </div>\n"
            ],
            "application/vnd.google.colaboratory.intrinsic+json": {
              "type": "dataframe",
              "summary": "{\n  \"name\": \"X_train\",\n  \"rows\": 5,\n  \"fields\": [\n    {\n      \"column\": \"fLength\",\n      \"properties\": {\n        \"dtype\": \"number\",\n        \"std\": 14.744802012888536,\n        \"min\": 18.4932,\n        \"max\": 57.0634,\n        \"num_unique_values\": 5,\n        \"samples\": [\n          18.4932,\n          57.0634,\n          38.73963858238228\n        ],\n        \"semantic_type\": \"\",\n        \"description\": \"\"\n      }\n    },\n    {\n      \"column\": \"fWidth\",\n      \"properties\": {\n        \"dtype\": \"number\",\n        \"std\": 5.437415848632335,\n        \"min\": 7.3715,\n        \"max\": 19.1651,\n        \"num_unique_values\": 5,\n        \"samples\": [\n          16.9369,\n          19.1651,\n          8.797676889428352\n        ],\n        \"semantic_type\": \"\",\n        \"description\": \"\"\n      }\n    },\n    {\n      \"column\": \"fSize\",\n      \"properties\": {\n        \"dtype\": \"number\",\n        \"std\": 0.27225701548442094,\n        \"min\": 2.1987,\n        \"max\": 2.9209,\n        \"num_unique_values\": 5,\n        \"samples\": [\n          2.7835,\n          2.9209,\n          2.601963185308299\n        ],\n        \"semantic_type\": \"\",\n        \"description\": \"\"\n      }\n    },\n    {\n      \"column\": \"fConc\",\n      \"properties\": {\n        \"dtype\": \"number\",\n        \"std\": 0.15497007219405848,\n        \"min\": 0.1908,\n        \"max\": 0.6242,\n        \"num_unique_values\": 5,\n        \"samples\": [\n          0.4513,\n          0.1908,\n          0.4391509497458112\n        ],\n        \"semantic_type\": \"\",\n        \"description\": \"\"\n      }\n    },\n    {\n      \"column\": \"fConc1\",\n      \"properties\": {\n        \"dtype\": \"number\",\n        \"std\": 0.09731599896386853,\n        \"min\": 0.1014,\n        \"max\": 0.3702,\n        \"num_unique_values\": 5,\n        \"samples\": [\n          0.23,\n          0.1014,\n          0.2708555907413531\n        ],\n        \"semantic_type\": \"\",\n        \"description\": \"\"\n      }\n    },\n    {\n      \"column\": \"fAsym\",\n      \"properties\": {\n        \"dtype\": \"number\",\n        \"std\": 30.777565505425617,\n        \"min\": -49.0296,\n        \"max\": 25.5784,\n        \"num_unique_values\": 5,\n        \"samples\": [\n          7.9821,\n          25.5784,\n          20.370439956924365\n        ],\n        \"semantic_type\": \"\",\n        \"description\": \"\"\n      }\n    },\n    {\n      \"column\": \"fM3Long\",\n      \"properties\": {\n        \"dtype\": \"number\",\n        \"std\": 27.216335426725685,\n        \"min\": -25.3718,\n        \"max\": 33.6767,\n        \"num_unique_values\": 5,\n        \"samples\": [\n          -21.9054,\n          -25.3718,\n          25.50073218512855\n        ],\n        \"semantic_type\": \"\",\n        \"description\": \"\"\n      }\n    },\n    {\n      \"column\": \"fM3Trans\",\n      \"properties\": {\n        \"dtype\": \"number\",\n        \"std\": 12.578310688725836,\n        \"min\": -13.790797552995793,\n        \"max\": 16.132,\n        \"num_unique_values\": 5,\n        \"samples\": [\n          7.6908,\n          -10.1046,\n          -13.790797552995793\n        ],\n        \"semantic_type\": \"\",\n        \"description\": \"\"\n      }\n    },\n    {\n      \"column\": \"fAlpha\",\n      \"properties\": {\n        \"dtype\": \"number\",\n        \"std\": 25.308873040193205,\n        \"min\": 4.181,\n        \"max\": 72.6942,\n        \"num_unique_values\": 5,\n        \"samples\": [\n          44.625,\n          4.181,\n          42.30822738429244\n        ],\n        \"semantic_type\": \"\",\n        \"description\": \"\"\n      }\n    },\n    {\n      \"column\": \"fDist\",\n      \"properties\": {\n        \"dtype\": \"number\",\n        \"std\": 67.87633859042188,\n        \"min\": 75.0225,\n        \"max\": 236.137,\n        \"num_unique_values\": 5,\n        \"samples\": [\n          75.0225,\n          236.137,\n          234.18095030960237\n        ],\n        \"semantic_type\": \"\",\n        \"description\": \"\"\n      }\n    }\n  ]\n}"
            }
          },
          "metadata": {},
          "execution_count": 17
        }
      ]
    },
    {
      "cell_type": "code",
      "source": [
        "# We will use Standardization\n",
        "from sklearn.preprocessing import StandardScaler\n",
        "\n",
        "scaler = StandardScaler()\n",
        "X_train = scaler.fit_transform(X_train)\n",
        "X_train = pd.DataFrame(X_train, columns = cols[:-1])\n",
        "\n",
        "scaler = StandardScaler()\n",
        "X_test = scaler.fit_transform(X_test)\n",
        "X_test = pd.DataFrame(X_test, columns = cols[:-1])\n",
        "\n",
        "X_train.head()"
      ],
      "metadata": {
        "colab": {
          "base_uri": "https://localhost:8080/",
          "height": 206
        },
        "id": "fYWG9SY-f_5X",
        "outputId": "733af5e0-245a-4f9c-df6e-5bda05653d80"
      },
      "execution_count": null,
      "outputs": [
        {
          "output_type": "execute_result",
          "data": {
            "text/plain": [
              "    fLength    fWidth     fSize     fConc    fConc1     fAsym   fM3Long  \\\n",
              "0 -1.064610 -0.689295 -0.419546  0.566400  0.184263 -0.532183 -0.595398   \n",
              "1  2.695749  0.904436  0.215126 -0.792757 -0.693978  0.638295  2.564846   \n",
              "2  3.236116  3.769886  3.308227 -1.758860 -1.693557  2.097719  1.537930   \n",
              "3  1.325013  0.087365  0.703450 -0.927150 -0.902313 -1.167084  1.302052   \n",
              "4 -0.768908 -0.786838 -0.525338  1.019780  1.091411  0.617824 -0.162621   \n",
              "\n",
              "   fM3Trans    fAlpha     fDist  \n",
              "0  0.724863  0.854871  0.743411  \n",
              "1  1.415715  1.595513 -0.902916  \n",
              "2 -1.698515  0.852784  2.199186  \n",
              "3  0.703970 -0.680487  1.659706  \n",
              "4  0.460686 -0.392823 -1.301439  "
            ],
            "text/html": [
              "\n",
              "  <div id=\"df-3121d05f-9342-4557-adbc-0d43e34302b5\" class=\"colab-df-container\">\n",
              "    <div>\n",
              "<style scoped>\n",
              "    .dataframe tbody tr th:only-of-type {\n",
              "        vertical-align: middle;\n",
              "    }\n",
              "\n",
              "    .dataframe tbody tr th {\n",
              "        vertical-align: top;\n",
              "    }\n",
              "\n",
              "    .dataframe thead th {\n",
              "        text-align: right;\n",
              "    }\n",
              "</style>\n",
              "<table border=\"1\" class=\"dataframe\">\n",
              "  <thead>\n",
              "    <tr style=\"text-align: right;\">\n",
              "      <th></th>\n",
              "      <th>fLength</th>\n",
              "      <th>fWidth</th>\n",
              "      <th>fSize</th>\n",
              "      <th>fConc</th>\n",
              "      <th>fConc1</th>\n",
              "      <th>fAsym</th>\n",
              "      <th>fM3Long</th>\n",
              "      <th>fM3Trans</th>\n",
              "      <th>fAlpha</th>\n",
              "      <th>fDist</th>\n",
              "    </tr>\n",
              "  </thead>\n",
              "  <tbody>\n",
              "    <tr>\n",
              "      <th>0</th>\n",
              "      <td>-1.064610</td>\n",
              "      <td>-0.689295</td>\n",
              "      <td>-0.419546</td>\n",
              "      <td>0.566400</td>\n",
              "      <td>0.184263</td>\n",
              "      <td>-0.532183</td>\n",
              "      <td>-0.595398</td>\n",
              "      <td>0.724863</td>\n",
              "      <td>0.854871</td>\n",
              "      <td>0.743411</td>\n",
              "    </tr>\n",
              "    <tr>\n",
              "      <th>1</th>\n",
              "      <td>2.695749</td>\n",
              "      <td>0.904436</td>\n",
              "      <td>0.215126</td>\n",
              "      <td>-0.792757</td>\n",
              "      <td>-0.693978</td>\n",
              "      <td>0.638295</td>\n",
              "      <td>2.564846</td>\n",
              "      <td>1.415715</td>\n",
              "      <td>1.595513</td>\n",
              "      <td>-0.902916</td>\n",
              "    </tr>\n",
              "    <tr>\n",
              "      <th>2</th>\n",
              "      <td>3.236116</td>\n",
              "      <td>3.769886</td>\n",
              "      <td>3.308227</td>\n",
              "      <td>-1.758860</td>\n",
              "      <td>-1.693557</td>\n",
              "      <td>2.097719</td>\n",
              "      <td>1.537930</td>\n",
              "      <td>-1.698515</td>\n",
              "      <td>0.852784</td>\n",
              "      <td>2.199186</td>\n",
              "    </tr>\n",
              "    <tr>\n",
              "      <th>3</th>\n",
              "      <td>1.325013</td>\n",
              "      <td>0.087365</td>\n",
              "      <td>0.703450</td>\n",
              "      <td>-0.927150</td>\n",
              "      <td>-0.902313</td>\n",
              "      <td>-1.167084</td>\n",
              "      <td>1.302052</td>\n",
              "      <td>0.703970</td>\n",
              "      <td>-0.680487</td>\n",
              "      <td>1.659706</td>\n",
              "    </tr>\n",
              "    <tr>\n",
              "      <th>4</th>\n",
              "      <td>-0.768908</td>\n",
              "      <td>-0.786838</td>\n",
              "      <td>-0.525338</td>\n",
              "      <td>1.019780</td>\n",
              "      <td>1.091411</td>\n",
              "      <td>0.617824</td>\n",
              "      <td>-0.162621</td>\n",
              "      <td>0.460686</td>\n",
              "      <td>-0.392823</td>\n",
              "      <td>-1.301439</td>\n",
              "    </tr>\n",
              "  </tbody>\n",
              "</table>\n",
              "</div>\n",
              "    <div class=\"colab-df-buttons\">\n",
              "\n",
              "  <div class=\"colab-df-container\">\n",
              "    <button class=\"colab-df-convert\" onclick=\"convertToInteractive('df-3121d05f-9342-4557-adbc-0d43e34302b5')\"\n",
              "            title=\"Convert this dataframe to an interactive table.\"\n",
              "            style=\"display:none;\">\n",
              "\n",
              "  <svg xmlns=\"http://www.w3.org/2000/svg\" height=\"24px\" viewBox=\"0 -960 960 960\">\n",
              "    <path d=\"M120-120v-720h720v720H120Zm60-500h600v-160H180v160Zm220 220h160v-160H400v160Zm0 220h160v-160H400v160ZM180-400h160v-160H180v160Zm440 0h160v-160H620v160ZM180-180h160v-160H180v160Zm440 0h160v-160H620v160Z\"/>\n",
              "  </svg>\n",
              "    </button>\n",
              "\n",
              "  <style>\n",
              "    .colab-df-container {\n",
              "      display:flex;\n",
              "      gap: 12px;\n",
              "    }\n",
              "\n",
              "    .colab-df-convert {\n",
              "      background-color: #E8F0FE;\n",
              "      border: none;\n",
              "      border-radius: 50%;\n",
              "      cursor: pointer;\n",
              "      display: none;\n",
              "      fill: #1967D2;\n",
              "      height: 32px;\n",
              "      padding: 0 0 0 0;\n",
              "      width: 32px;\n",
              "    }\n",
              "\n",
              "    .colab-df-convert:hover {\n",
              "      background-color: #E2EBFA;\n",
              "      box-shadow: 0px 1px 2px rgba(60, 64, 67, 0.3), 0px 1px 3px 1px rgba(60, 64, 67, 0.15);\n",
              "      fill: #174EA6;\n",
              "    }\n",
              "\n",
              "    .colab-df-buttons div {\n",
              "      margin-bottom: 4px;\n",
              "    }\n",
              "\n",
              "    [theme=dark] .colab-df-convert {\n",
              "      background-color: #3B4455;\n",
              "      fill: #D2E3FC;\n",
              "    }\n",
              "\n",
              "    [theme=dark] .colab-df-convert:hover {\n",
              "      background-color: #434B5C;\n",
              "      box-shadow: 0px 1px 3px 1px rgba(0, 0, 0, 0.15);\n",
              "      filter: drop-shadow(0px 1px 2px rgba(0, 0, 0, 0.3));\n",
              "      fill: #FFFFFF;\n",
              "    }\n",
              "  </style>\n",
              "\n",
              "    <script>\n",
              "      const buttonEl =\n",
              "        document.querySelector('#df-3121d05f-9342-4557-adbc-0d43e34302b5 button.colab-df-convert');\n",
              "      buttonEl.style.display =\n",
              "        google.colab.kernel.accessAllowed ? 'block' : 'none';\n",
              "\n",
              "      async function convertToInteractive(key) {\n",
              "        const element = document.querySelector('#df-3121d05f-9342-4557-adbc-0d43e34302b5');\n",
              "        const dataTable =\n",
              "          await google.colab.kernel.invokeFunction('convertToInteractive',\n",
              "                                                    [key], {});\n",
              "        if (!dataTable) return;\n",
              "\n",
              "        const docLinkHtml = 'Like what you see? Visit the ' +\n",
              "          '<a target=\"_blank\" href=https://colab.research.google.com/notebooks/data_table.ipynb>data table notebook</a>'\n",
              "          + ' to learn more about interactive tables.';\n",
              "        element.innerHTML = '';\n",
              "        dataTable['output_type'] = 'display_data';\n",
              "        await google.colab.output.renderOutput(dataTable, element);\n",
              "        const docLink = document.createElement('div');\n",
              "        docLink.innerHTML = docLinkHtml;\n",
              "        element.appendChild(docLink);\n",
              "      }\n",
              "    </script>\n",
              "  </div>\n",
              "\n",
              "\n",
              "<div id=\"df-59732a6c-bad3-4d88-93f5-765e4938e783\">\n",
              "  <button class=\"colab-df-quickchart\" onclick=\"quickchart('df-59732a6c-bad3-4d88-93f5-765e4938e783')\"\n",
              "            title=\"Suggest charts\"\n",
              "            style=\"display:none;\">\n",
              "\n",
              "<svg xmlns=\"http://www.w3.org/2000/svg\" height=\"24px\"viewBox=\"0 0 24 24\"\n",
              "     width=\"24px\">\n",
              "    <g>\n",
              "        <path d=\"M19 3H5c-1.1 0-2 .9-2 2v14c0 1.1.9 2 2 2h14c1.1 0 2-.9 2-2V5c0-1.1-.9-2-2-2zM9 17H7v-7h2v7zm4 0h-2V7h2v10zm4 0h-2v-4h2v4z\"/>\n",
              "    </g>\n",
              "</svg>\n",
              "  </button>\n",
              "\n",
              "<style>\n",
              "  .colab-df-quickchart {\n",
              "      --bg-color: #E8F0FE;\n",
              "      --fill-color: #1967D2;\n",
              "      --hover-bg-color: #E2EBFA;\n",
              "      --hover-fill-color: #174EA6;\n",
              "      --disabled-fill-color: #AAA;\n",
              "      --disabled-bg-color: #DDD;\n",
              "  }\n",
              "\n",
              "  [theme=dark] .colab-df-quickchart {\n",
              "      --bg-color: #3B4455;\n",
              "      --fill-color: #D2E3FC;\n",
              "      --hover-bg-color: #434B5C;\n",
              "      --hover-fill-color: #FFFFFF;\n",
              "      --disabled-bg-color: #3B4455;\n",
              "      --disabled-fill-color: #666;\n",
              "  }\n",
              "\n",
              "  .colab-df-quickchart {\n",
              "    background-color: var(--bg-color);\n",
              "    border: none;\n",
              "    border-radius: 50%;\n",
              "    cursor: pointer;\n",
              "    display: none;\n",
              "    fill: var(--fill-color);\n",
              "    height: 32px;\n",
              "    padding: 0;\n",
              "    width: 32px;\n",
              "  }\n",
              "\n",
              "  .colab-df-quickchart:hover {\n",
              "    background-color: var(--hover-bg-color);\n",
              "    box-shadow: 0 1px 2px rgba(60, 64, 67, 0.3), 0 1px 3px 1px rgba(60, 64, 67, 0.15);\n",
              "    fill: var(--button-hover-fill-color);\n",
              "  }\n",
              "\n",
              "  .colab-df-quickchart-complete:disabled,\n",
              "  .colab-df-quickchart-complete:disabled:hover {\n",
              "    background-color: var(--disabled-bg-color);\n",
              "    fill: var(--disabled-fill-color);\n",
              "    box-shadow: none;\n",
              "  }\n",
              "\n",
              "  .colab-df-spinner {\n",
              "    border: 2px solid var(--fill-color);\n",
              "    border-color: transparent;\n",
              "    border-bottom-color: var(--fill-color);\n",
              "    animation:\n",
              "      spin 1s steps(1) infinite;\n",
              "  }\n",
              "\n",
              "  @keyframes spin {\n",
              "    0% {\n",
              "      border-color: transparent;\n",
              "      border-bottom-color: var(--fill-color);\n",
              "      border-left-color: var(--fill-color);\n",
              "    }\n",
              "    20% {\n",
              "      border-color: transparent;\n",
              "      border-left-color: var(--fill-color);\n",
              "      border-top-color: var(--fill-color);\n",
              "    }\n",
              "    30% {\n",
              "      border-color: transparent;\n",
              "      border-left-color: var(--fill-color);\n",
              "      border-top-color: var(--fill-color);\n",
              "      border-right-color: var(--fill-color);\n",
              "    }\n",
              "    40% {\n",
              "      border-color: transparent;\n",
              "      border-right-color: var(--fill-color);\n",
              "      border-top-color: var(--fill-color);\n",
              "    }\n",
              "    60% {\n",
              "      border-color: transparent;\n",
              "      border-right-color: var(--fill-color);\n",
              "    }\n",
              "    80% {\n",
              "      border-color: transparent;\n",
              "      border-right-color: var(--fill-color);\n",
              "      border-bottom-color: var(--fill-color);\n",
              "    }\n",
              "    90% {\n",
              "      border-color: transparent;\n",
              "      border-bottom-color: var(--fill-color);\n",
              "    }\n",
              "  }\n",
              "</style>\n",
              "\n",
              "  <script>\n",
              "    async function quickchart(key) {\n",
              "      const quickchartButtonEl =\n",
              "        document.querySelector('#' + key + ' button');\n",
              "      quickchartButtonEl.disabled = true;  // To prevent multiple clicks.\n",
              "      quickchartButtonEl.classList.add('colab-df-spinner');\n",
              "      try {\n",
              "        const charts = await google.colab.kernel.invokeFunction(\n",
              "            'suggestCharts', [key], {});\n",
              "      } catch (error) {\n",
              "        console.error('Error during call to suggestCharts:', error);\n",
              "      }\n",
              "      quickchartButtonEl.classList.remove('colab-df-spinner');\n",
              "      quickchartButtonEl.classList.add('colab-df-quickchart-complete');\n",
              "    }\n",
              "    (() => {\n",
              "      let quickchartButtonEl =\n",
              "        document.querySelector('#df-59732a6c-bad3-4d88-93f5-765e4938e783 button');\n",
              "      quickchartButtonEl.style.display =\n",
              "        google.colab.kernel.accessAllowed ? 'block' : 'none';\n",
              "    })();\n",
              "  </script>\n",
              "</div>\n",
              "\n",
              "    </div>\n",
              "  </div>\n"
            ],
            "application/vnd.google.colaboratory.intrinsic+json": {
              "type": "dataframe",
              "variable_name": "X_train",
              "summary": "{\n  \"name\": \"X_train\",\n  \"rows\": 19505,\n  \"fields\": [\n    {\n      \"column\": \"fLength\",\n      \"properties\": {\n        \"dtype\": \"number\",\n        \"std\": 1.0000256354384343,\n        \"min\": -1.2763757324623421,\n        \"max\": 4.160997611447009,\n        \"num_unique_values\": 19337,\n        \"samples\": [\n          0.513386254608504,\n          0.0045414170270937065,\n          -0.8717502779711838\n        ],\n        \"semantic_type\": \"\",\n        \"description\": \"\"\n      }\n    },\n    {\n      \"column\": \"fWidth\",\n      \"properties\": {\n        \"dtype\": \"number\",\n        \"std\": 1.0000256354384343,\n        \"min\": -1.6622859974219957,\n        \"max\": 4.982613505369734,\n        \"num_unique_values\": 19050,\n        \"samples\": [\n          -0.9613408627331587,\n          1.2619620815724613,\n          -0.40484290765314307\n        ],\n        \"semantic_type\": \"\",\n        \"description\": \"\"\n      }\n    },\n    {\n      \"column\": \"fSize\",\n      \"properties\": {\n        \"dtype\": \"number\",\n        \"std\": 1.0000256354384343,\n        \"min\": -2.052141265405397,\n        \"max\": 3.5900520156803224,\n        \"num_unique_values\": 11036,\n        \"samples\": [\n          1.3776056663646314,\n          -0.08154611953046655,\n          -1.0512274542284215\n        ],\n        \"semantic_type\": \"\",\n        \"description\": \"\"\n      }\n    },\n    {\n      \"column\": \"fConc\",\n      \"properties\": {\n        \"dtype\": \"number\",\n        \"std\": 1.0000256354384343,\n        \"min\": -2.00877337052454,\n        \"max\": 2.837024619996216,\n        \"num_unique_values\": 10964,\n        \"samples\": [\n          0.5690278327970354,\n          -1.7733873450574593,\n          0.8106655314482035\n        ],\n        \"semantic_type\": \"\",\n        \"description\": \"\"\n      }\n    },\n    {\n      \"column\": \"fConc1\",\n      \"properties\": {\n        \"dtype\": \"number\",\n        \"std\": 1.0000256354384343,\n        \"min\": -2.020900464943925,\n        \"max\": 3.0870077454408227,\n        \"num_unique_values\": 9286,\n        \"samples\": [\n          0.7184987652680612,\n          1.3920585198729725,\n          -1.3189857793388222\n        ],\n        \"semantic_type\": \"\",\n        \"description\": \"\"\n      }\n    },\n    {\n      \"column\": \"fAsym\",\n      \"properties\": {\n        \"dtype\": \"number\",\n        \"std\": 1.0000256354384343,\n        \"min\": -3.9711540706478825,\n        \"max\": 3.818823377952007,\n        \"num_unique_values\": 19378,\n        \"samples\": [\n          0.7736161351134934,\n          1.928709932034122,\n          -3.868775251758526\n        ],\n        \"semantic_type\": \"\",\n        \"description\": \"\"\n      }\n    },\n    {\n      \"column\": \"fM3Long\",\n      \"properties\": {\n        \"dtype\": \"number\",\n        \"std\": 1.0000256354384343,\n        \"min\": -3.7596057389140536,\n        \"max\": 3.6876516081533444,\n        \"num_unique_values\": 19361,\n        \"samples\": [\n          1.6912009615286128,\n          0.2715422655122469,\n          0.0957914563410062\n        ],\n        \"semantic_type\": \"\",\n        \"description\": \"\"\n      }\n    },\n    {\n      \"column\": \"fM3Trans\",\n      \"properties\": {\n        \"dtype\": \"number\",\n        \"std\": 1.0000256354384343,\n        \"min\": -4.067213842052704,\n        \"max\": 4.052358625962034,\n        \"num_unique_values\": 19167,\n        \"samples\": [\n          0.5512038874772521,\n          -0.47648806113805797,\n          3.377980104400113\n        ],\n        \"semantic_type\": \"\",\n        \"description\": \"\"\n      }\n    },\n    {\n      \"column\": \"fAlpha\",\n      \"properties\": {\n        \"dtype\": \"number\",\n        \"std\": 1.0000256354384343,\n        \"min\": -1.1739299886285788,\n        \"max\": 2.2071166103883746,\n        \"num_unique_values\": 18918,\n        \"samples\": [\n          0.20384650047082967,\n          0.23367484491104606,\n          -0.7657625297583656\n        ],\n        \"semantic_type\": \"\",\n        \"description\": \"\"\n      }\n    },\n    {\n      \"column\": \"fDist\",\n      \"properties\": {\n        \"dtype\": \"number\",\n        \"std\": 1.0000256354384343,\n        \"min\": -2.5831494358294376,\n        \"max\": 3.0749780586789273,\n        \"num_unique_values\": 19233,\n        \"samples\": [\n          -0.018387957197602438,\n          0.36850254924877784,\n          -0.8441332344561409\n        ],\n        \"semantic_type\": \"\",\n        \"description\": \"\"\n      }\n    }\n  ]\n}"
            }
          },
          "metadata": {},
          "execution_count": 18
        }
      ]
    },
    {
      "cell_type": "markdown",
      "source": [
        "### **1.2 Feature Selection**"
      ],
      "metadata": {
        "id": "NuObyQpkhOGJ"
      }
    },
    {
      "cell_type": "code",
      "source": [
        "# We will use the mutual information technique\n",
        "\n",
        "from sklearn.datasets import make_classification\n",
        "from sklearn.feature_selection import mutual_info_classif\n",
        "from sklearn.feature_selection import SelectKBest\n",
        "\n",
        "fs = SelectKBest(score_func = mutual_info_classif, k = 8)\n",
        "fs.fit(X_train, y_train)\n",
        "mi_score = pd.Series(fs.scores_, index = X_train.columns)\n",
        "mi_score.sort_values(ascending = False).plot.bar(figsize = (6,4))"
      ],
      "metadata": {
        "colab": {
          "base_uri": "https://localhost:8080/",
          "height": 434
        },
        "id": "NwjtfTU13YbT",
        "outputId": "b08133f1-e2ae-4b69-ffd8-d6d605fea64f"
      },
      "execution_count": null,
      "outputs": [
        {
          "output_type": "execute_result",
          "data": {
            "text/plain": [
              "<Axes: >"
            ]
          },
          "metadata": {},
          "execution_count": 19
        },
        {
          "output_type": "display_data",
          "data": {
            "text/plain": [
              "<Figure size 600x400 with 1 Axes>"
            ],
            "image/png": "[encoded data removed]"
          },
          "metadata": {}
        }
      ]
    },
    {
      "cell_type": "code",
      "source": [
        "# I decided not to use Feature Selection (Reason Given In Model Training and Evaluation)\n",
        "# This will remove fAsym and fDist colums\n",
        "'''X_train = fs.fit_transform(X_train, y_train)\n",
        "cols = [\"fLength\", \"fWidth\", \"fSize\", \"fConc\", \"fConc1\", \"fM3Long\", \"fM3Trans\", \"fAlpha\"]\n",
        "X_train = pd.DataFrame(X_train, columns = cols)'''"
      ],
      "metadata": {
        "colab": {
          "base_uri": "https://localhost:8080/",
          "height": 53
        },
        "id": "X3B-U_NK56M5",
        "outputId": "22b3946b-2f49-48c7-8b43-d8292e3c21dc"
      },
      "execution_count": null,
      "outputs": [
        {
          "output_type": "execute_result",
          "data": {
            "text/plain": [
              "'X_train = fs.fit_transform(X_train, y_train)\\ncols = [\"fLength\", \"fWidth\", \"fSize\", \"fConc\", \"fConc1\", \"fM3Long\", \"fM3Trans\", \"fAlpha\"]\\nX_train = pd.DataFrame(X_train, columns = cols)'"
            ],
            "application/vnd.google.colaboratory.intrinsic+json": {
              "type": "string"
            }
          },
          "metadata": {},
          "execution_count": 20
        }
      ]
    },
    {
      "cell_type": "code",
      "source": [
        "X_train.head()"
      ],
      "metadata": {
        "colab": {
          "base_uri": "https://localhost:8080/",
          "height": 206
        },
        "id": "1_lgHKNY6FIb",
        "outputId": "6b78ace0-c6b1-444f-eac6-e27211935750"
      },
      "execution_count": null,
      "outputs": [
        {
          "output_type": "execute_result",
          "data": {
            "text/plain": [
              "    fLength    fWidth     fSize     fConc    fConc1     fAsym   fM3Long  \\\n",
              "0 -1.064610 -0.689295 -0.419546  0.566400  0.184263 -0.532183 -0.595398   \n",
              "1  2.695749  0.904436  0.215126 -0.792757 -0.693978  0.638295  2.564846   \n",
              "2  3.236116  3.769886  3.308227 -1.758860 -1.693557  2.097719  1.537930   \n",
              "3  1.325013  0.087365  0.703450 -0.927150 -0.902313 -1.167084  1.302052   \n",
              "4 -0.768908 -0.786838 -0.525338  1.019780  1.091411  0.617824 -0.162621   \n",
              "\n",
              "   fM3Trans    fAlpha     fDist  \n",
              "0  0.724863  0.854871  0.743411  \n",
              "1  1.415715  1.595513 -0.902916  \n",
              "2 -1.698515  0.852784  2.199186  \n",
              "3  0.703970 -0.680487  1.659706  \n",
              "4  0.460686 -0.392823 -1.301439  "
            ],
            "text/html": [
              "\n",
              "  <div id=\"df-3a83975f-2308-4a03-8ded-6c11ce4017f3\" class=\"colab-df-container\">\n",
              "    <div>\n",
              "<style scoped>\n",
              "    .dataframe tbody tr th:only-of-type {\n",
              "        vertical-align: middle;\n",
              "    }\n",
              "\n",
              "    .dataframe tbody tr th {\n",
              "        vertical-align: top;\n",
              "    }\n",
              "\n",
              "    .dataframe thead th {\n",
              "        text-align: right;\n",
              "    }\n",
              "</style>\n",
              "<table border=\"1\" class=\"dataframe\">\n",
              "  <thead>\n",
              "    <tr style=\"text-align: right;\">\n",
              "      <th></th>\n",
              "      <th>fLength</th>\n",
              "      <th>fWidth</th>\n",
              "      <th>fSize</th>\n",
              "      <th>fConc</th>\n",
              "      <th>fConc1</th>\n",
              "      <th>fAsym</th>\n",
              "      <th>fM3Long</th>\n",
              "      <th>fM3Trans</th>\n",
              "      <th>fAlpha</th>\n",
              "      <th>fDist</th>\n",
              "    </tr>\n",
              "  </thead>\n",
              "  <tbody>\n",
              "    <tr>\n",
              "      <th>0</th>\n",
              "      <td>-1.064610</td>\n",
              "      <td>-0.689295</td>\n",
              "      <td>-0.419546</td>\n",
              "      <td>0.566400</td>\n",
              "      <td>0.184263</td>\n",
              "      <td>-0.532183</td>\n",
              "      <td>-0.595398</td>\n",
              "      <td>0.724863</td>\n",
              "      <td>0.854871</td>\n",
              "      <td>0.743411</td>\n",
              "    </tr>\n",
              "    <tr>\n",
              "      <th>1</th>\n",
              "      <td>2.695749</td>\n",
              "      <td>0.904436</td>\n",
              "      <td>0.215126</td>\n",
              "      <td>-0.792757</td>\n",
              "      <td>-0.693978</td>\n",
              "      <td>0.638295</td>\n",
              "      <td>2.564846</td>\n",
              "      <td>1.415715</td>\n",
              "      <td>1.595513</td>\n",
              "      <td>-0.902916</td>\n",
              "    </tr>\n",
              "    <tr>\n",
              "      <th>2</th>\n",
              "      <td>3.236116</td>\n",
              "      <td>3.769886</td>\n",
              "      <td>3.308227</td>\n",
              "      <td>-1.758860</td>\n",
              "      <td>-1.693557</td>\n",
              "      <td>2.097719</td>\n",
              "      <td>1.537930</td>\n",
              "      <td>-1.698515</td>\n",
              "      <td>0.852784</td>\n",
              "      <td>2.199186</td>\n",
              "    </tr>\n",
              "    <tr>\n",
              "      <th>3</th>\n",
              "      <td>1.325013</td>\n",
              "      <td>0.087365</td>\n",
              "      <td>0.703450</td>\n",
              "      <td>-0.927150</td>\n",
              "      <td>-0.902313</td>\n",
              "      <td>-1.167084</td>\n",
              "      <td>1.302052</td>\n",
              "      <td>0.703970</td>\n",
              "      <td>-0.680487</td>\n",
              "      <td>1.659706</td>\n",
              "    </tr>\n",
              "    <tr>\n",
              "      <th>4</th>\n",
              "      <td>-0.768908</td>\n",
              "      <td>-0.786838</td>\n",
              "      <td>-0.525338</td>\n",
              "      <td>1.019780</td>\n",
              "      <td>1.091411</td>\n",
              "      <td>0.617824</td>\n",
              "      <td>-0.162621</td>\n",
              "      <td>0.460686</td>\n",
              "      <td>-0.392823</td>\n",
              "      <td>-1.301439</td>\n",
              "    </tr>\n",
              "  </tbody>\n",
              "</table>\n",
              "</div>\n",
              "    <div class=\"colab-df-buttons\">\n",
              "\n",
              "  <div class=\"colab-df-container\">\n",
              "    <button class=\"colab-df-convert\" onclick=\"convertToInteractive('df-3a83975f-2308-4a03-8ded-6c11ce4017f3')\"\n",
              "            title=\"Convert this dataframe to an interactive table.\"\n",
              "            style=\"display:none;\">\n",
              "\n",
              "  <svg xmlns=\"http://www.w3.org/2000/svg\" height=\"24px\" viewBox=\"0 -960 960 960\">\n",
              "    <path d=\"M120-120v-720h720v720H120Zm60-500h600v-160H180v160Zm220 220h160v-160H400v160Zm0 220h160v-160H400v160ZM180-400h160v-160H180v160Zm440 0h160v-160H620v160ZM180-180h160v-160H180v160Zm440 0h160v-160H620v160Z\"/>\n",
              "  </svg>\n",
              "    </button>\n",
              "\n",
              "  <style>\n",
              "    .colab-df-container {\n",
              "      display:flex;\n",
              "      gap: 12px;\n",
              "    }\n",
              "\n",
              "    .colab-df-convert {\n",
              "      background-color: #E8F0FE;\n",
              "      border: none;\n",
              "      border-radius: 50%;\n",
              "      cursor: pointer;\n",
              "      display: none;\n",
              "      fill: #1967D2;\n",
              "      height: 32px;\n",
              "      padding: 0 0 0 0;\n",
              "      width: 32px;\n",
              "    }\n",
              "\n",
              "    .colab-df-convert:hover {\n",
              "      background-color: #E2EBFA;\n",
              "      box-shadow: 0px 1px 2px rgba(60, 64, 67, 0.3), 0px 1px 3px 1px rgba(60, 64, 67, 0.15);\n",
              "      fill: #174EA6;\n",
              "    }\n",
              "\n",
              "    .colab-df-buttons div {\n",
              "      margin-bottom: 4px;\n",
              "    }\n",
              "\n",
              "    [theme=dark] .colab-df-convert {\n",
              "      background-color: #3B4455;\n",
              "      fill: #D2E3FC;\n",
              "    }\n",
              "\n",
              "    [theme=dark] .colab-df-convert:hover {\n",
              "      background-color: #434B5C;\n",
              "      box-shadow: 0px 1px 3px 1px rgba(0, 0, 0, 0.15);\n",
              "      filter: drop-shadow(0px 1px 2px rgba(0, 0, 0, 0.3));\n",
              "      fill: #FFFFFF;\n",
              "    }\n",
              "  </style>\n",
              "\n",
              "    <script>\n",
              "      const buttonEl =\n",
              "        document.querySelector('#df-3a83975f-2308-4a03-8ded-6c11ce4017f3 button.colab-df-convert');\n",
              "      buttonEl.style.display =\n",
              "        google.colab.kernel.accessAllowed ? 'block' : 'none';\n",
              "\n",
              "      async function convertToInteractive(key) {\n",
              "        const element = document.querySelector('#df-3a83975f-2308-4a03-8ded-6c11ce4017f3');\n",
              "        const dataTable =\n",
              "          await google.colab.kernel.invokeFunction('convertToInteractive',\n",
              "                                                    [key], {});\n",
              "        if (!dataTable) return;\n",
              "\n",
              "        const docLinkHtml = 'Like what you see? Visit the ' +\n",
              "          '<a target=\"_blank\" href=https://colab.research.google.com/notebooks/data_table.ipynb>data table notebook</a>'\n",
              "          + ' to learn more about interactive tables.';\n",
              "        element.innerHTML = '';\n",
              "        dataTable['output_type'] = 'display_data';\n",
              "        await google.colab.output.renderOutput(dataTable, element);\n",
              "        const docLink = document.createElement('div');\n",
              "        docLink.innerHTML = docLinkHtml;\n",
              "        element.appendChild(docLink);\n",
              "      }\n",
              "    </script>\n",
              "  </div>\n",
              "\n",
              "\n",
              "<div id=\"df-66df0e55-33a1-48ea-aa5d-3798ecdcefbe\">\n",
              "  <button class=\"colab-df-quickchart\" onclick=\"quickchart('df-66df0e55-33a1-48ea-aa5d-3798ecdcefbe')\"\n",
              "            title=\"Suggest charts\"\n",
              "            style=\"display:none;\">\n",
              "\n",
              "<svg xmlns=\"http://www.w3.org/2000/svg\" height=\"24px\"viewBox=\"0 0 24 24\"\n",
              "     width=\"24px\">\n",
              "    <g>\n",
              "        <path d=\"M19 3H5c-1.1 0-2 .9-2 2v14c0 1.1.9 2 2 2h14c1.1 0 2-.9 2-2V5c0-1.1-.9-2-2-2zM9 17H7v-7h2v7zm4 0h-2V7h2v10zm4 0h-2v-4h2v4z\"/>\n",
              "    </g>\n",
              "</svg>\n",
              "  </button>\n",
              "\n",
              "<style>\n",
              "  .colab-df-quickchart {\n",
              "      --bg-color: #E8F0FE;\n",
              "      --fill-color: #1967D2;\n",
              "      --hover-bg-color: #E2EBFA;\n",
              "      --hover-fill-color: #174EA6;\n",
              "      --disabled-fill-color: #AAA;\n",
              "      --disabled-bg-color: #DDD;\n",
              "  }\n",
              "\n",
              "  [theme=dark] .colab-df-quickchart {\n",
              "      --bg-color: #3B4455;\n",
              "      --fill-color: #D2E3FC;\n",
              "      --hover-bg-color: #434B5C;\n",
              "      --hover-fill-color: #FFFFFF;\n",
              "      --disabled-bg-color: #3B4455;\n",
              "      --disabled-fill-color: #666;\n",
              "  }\n",
              "\n",
              "  .colab-df-quickchart {\n",
              "    background-color: var(--bg-color);\n",
              "    border: none;\n",
              "    border-radius: 50%;\n",
              "    cursor: pointer;\n",
              "    display: none;\n",
              "    fill: var(--fill-color);\n",
              "    height: 32px;\n",
              "    padding: 0;\n",
              "    width: 32px;\n",
              "  }\n",
              "\n",
              "  .colab-df-quickchart:hover {\n",
              "    background-color: var(--hover-bg-color);\n",
              "    box-shadow: 0 1px 2px rgba(60, 64, 67, 0.3), 0 1px 3px 1px rgba(60, 64, 67, 0.15);\n",
              "    fill: var(--button-hover-fill-color);\n",
              "  }\n",
              "\n",
              "  .colab-df-quickchart-complete:disabled,\n",
              "  .colab-df-quickchart-complete:disabled:hover {\n",
              "    background-color: var(--disabled-bg-color);\n",
              "    fill: var(--disabled-fill-color);\n",
              "    box-shadow: none;\n",
              "  }\n",
              "\n",
              "  .colab-df-spinner {\n",
              "    border: 2px solid var(--fill-color);\n",
              "    border-color: transparent;\n",
              "    border-bottom-color: var(--fill-color);\n",
              "    animation:\n",
              "      spin 1s steps(1) infinite;\n",
              "  }\n",
              "\n",
              "  @keyframes spin {\n",
              "    0% {\n",
              "      border-color: transparent;\n",
              "      border-bottom-color: var(--fill-color);\n",
              "      border-left-color: var(--fill-color);\n",
              "    }\n",
              "    20% {\n",
              "      border-color: transparent;\n",
              "      border-left-color: var(--fill-color);\n",
              "      border-top-color: var(--fill-color);\n",
              "    }\n",
              "    30% {\n",
              "      border-color: transparent;\n",
              "      border-left-color: var(--fill-color);\n",
              "      border-top-color: var(--fill-color);\n",
              "      border-right-color: var(--fill-color);\n",
              "    }\n",
              "    40% {\n",
              "      border-color: transparent;\n",
              "      border-right-color: var(--fill-color);\n",
              "      border-top-color: var(--fill-color);\n",
              "    }\n",
              "    60% {\n",
              "      border-color: transparent;\n",
              "      border-right-color: var(--fill-color);\n",
              "    }\n",
              "    80% {\n",
              "      border-color: transparent;\n",
              "      border-right-color: var(--fill-color);\n",
              "      border-bottom-color: var(--fill-color);\n",
              "    }\n",
              "    90% {\n",
              "      border-color: transparent;\n",
              "      border-bottom-color: var(--fill-color);\n",
              "    }\n",
              "  }\n",
              "</style>\n",
              "\n",
              "  <script>\n",
              "    async function quickchart(key) {\n",
              "      const quickchartButtonEl =\n",
              "        document.querySelector('#' + key + ' button');\n",
              "      quickchartButtonEl.disabled = true;  // To prevent multiple clicks.\n",
              "      quickchartButtonEl.classList.add('colab-df-spinner');\n",
              "      try {\n",
              "        const charts = await google.colab.kernel.invokeFunction(\n",
              "            'suggestCharts', [key], {});\n",
              "      } catch (error) {\n",
              "        console.error('Error during call to suggestCharts:', error);\n",
              "      }\n",
              "      quickchartButtonEl.classList.remove('colab-df-spinner');\n",
              "      quickchartButtonEl.classList.add('colab-df-quickchart-complete');\n",
              "    }\n",
              "    (() => {\n",
              "      let quickchartButtonEl =\n",
              "        document.querySelector('#df-66df0e55-33a1-48ea-aa5d-3798ecdcefbe button');\n",
              "      quickchartButtonEl.style.display =\n",
              "        google.colab.kernel.accessAllowed ? 'block' : 'none';\n",
              "    })();\n",
              "  </script>\n",
              "</div>\n",
              "\n",
              "    </div>\n",
              "  </div>\n"
            ],
            "application/vnd.google.colaboratory.intrinsic+json": {
              "type": "dataframe",
              "variable_name": "X_train",
              "summary": "{\n  \"name\": \"X_train\",\n  \"rows\": 19505,\n  \"fields\": [\n    {\n      \"column\": \"fLength\",\n      \"properties\": {\n        \"dtype\": \"number\",\n        \"std\": 1.0000256354384343,\n        \"min\": -1.2763757324623421,\n        \"max\": 4.160997611447009,\n        \"num_unique_values\": 19337,\n        \"samples\": [\n          0.513386254608504,\n          0.0045414170270937065,\n          -0.8717502779711838\n        ],\n        \"semantic_type\": \"\",\n        \"description\": \"\"\n      }\n    },\n    {\n      \"column\": \"fWidth\",\n      \"properties\": {\n        \"dtype\": \"number\",\n        \"std\": 1.0000256354384343,\n        \"min\": -1.6622859974219957,\n        \"max\": 4.982613505369734,\n        \"num_unique_values\": 19050,\n        \"samples\": [\n          -0.9613408627331587,\n          1.2619620815724613,\n          -0.40484290765314307\n        ],\n        \"semantic_type\": \"\",\n        \"description\": \"\"\n      }\n    },\n    {\n      \"column\": \"fSize\",\n      \"properties\": {\n        \"dtype\": \"number\",\n        \"std\": 1.0000256354384343,\n        \"min\": -2.052141265405397,\n        \"max\": 3.5900520156803224,\n        \"num_unique_values\": 11036,\n        \"samples\": [\n          1.3776056663646314,\n          -0.08154611953046655,\n          -1.0512274542284215\n        ],\n        \"semantic_type\": \"\",\n        \"description\": \"\"\n      }\n    },\n    {\n      \"column\": \"fConc\",\n      \"properties\": {\n        \"dtype\": \"number\",\n        \"std\": 1.0000256354384343,\n        \"min\": -2.00877337052454,\n        \"max\": 2.837024619996216,\n        \"num_unique_values\": 10964,\n        \"samples\": [\n          0.5690278327970354,\n          -1.7733873450574593,\n          0.8106655314482035\n        ],\n        \"semantic_type\": \"\",\n        \"description\": \"\"\n      }\n    },\n    {\n      \"column\": \"fConc1\",\n      \"properties\": {\n        \"dtype\": \"number\",\n        \"std\": 1.0000256354384343,\n        \"min\": -2.020900464943925,\n        \"max\": 3.0870077454408227,\n        \"num_unique_values\": 9286,\n        \"samples\": [\n          0.7184987652680612,\n          1.3920585198729725,\n          -1.3189857793388222\n        ],\n        \"semantic_type\": \"\",\n        \"description\": \"\"\n      }\n    },\n    {\n      \"column\": \"fAsym\",\n      \"properties\": {\n        \"dtype\": \"number\",\n        \"std\": 1.0000256354384343,\n        \"min\": -3.9711540706478825,\n        \"max\": 3.818823377952007,\n        \"num_unique_values\": 19378,\n        \"samples\": [\n          0.7736161351134934,\n          1.928709932034122,\n          -3.868775251758526\n        ],\n        \"semantic_type\": \"\",\n        \"description\": \"\"\n      }\n    },\n    {\n      \"column\": \"fM3Long\",\n      \"properties\": {\n        \"dtype\": \"number\",\n        \"std\": 1.0000256354384343,\n        \"min\": -3.7596057389140536,\n        \"max\": 3.6876516081533444,\n        \"num_unique_values\": 19361,\n        \"samples\": [\n          1.6912009615286128,\n          0.2715422655122469,\n          0.0957914563410062\n        ],\n        \"semantic_type\": \"\",\n        \"description\": \"\"\n      }\n    },\n    {\n      \"column\": \"fM3Trans\",\n      \"properties\": {\n        \"dtype\": \"number\",\n        \"std\": 1.0000256354384343,\n        \"min\": -4.067213842052704,\n        \"max\": 4.052358625962034,\n        \"num_unique_values\": 19167,\n        \"samples\": [\n          0.5512038874772521,\n          -0.47648806113805797,\n          3.377980104400113\n        ],\n        \"semantic_type\": \"\",\n        \"description\": \"\"\n      }\n    },\n    {\n      \"column\": \"fAlpha\",\n      \"properties\": {\n        \"dtype\": \"number\",\n        \"std\": 1.0000256354384343,\n        \"min\": -1.1739299886285788,\n        \"max\": 2.2071166103883746,\n        \"num_unique_values\": 18918,\n        \"samples\": [\n          0.20384650047082967,\n          0.23367484491104606,\n          -0.7657625297583656\n        ],\n        \"semantic_type\": \"\",\n        \"description\": \"\"\n      }\n    },\n    {\n      \"column\": \"fDist\",\n      \"properties\": {\n        \"dtype\": \"number\",\n        \"std\": 1.0000256354384343,\n        \"min\": -2.5831494358294376,\n        \"max\": 3.0749780586789273,\n        \"num_unique_values\": 19233,\n        \"samples\": [\n          -0.018387957197602438,\n          0.36850254924877784,\n          -0.8441332344561409\n        ],\n        \"semantic_type\": \"\",\n        \"description\": \"\"\n      }\n    }\n  ]\n}"
            }
          },
          "metadata": {},
          "execution_count": 21
        }
      ]
    },
    {
      "cell_type": "code",
      "source": [
        "'''# Remove columns from test data as well\n",
        "X_test = X_test.drop(columns = ['fAsym', 'fDist'])\n",
        "X_test.head()'''"
      ],
      "metadata": {
        "colab": {
          "base_uri": "https://localhost:8080/",
          "height": 36
        },
        "id": "eZmaIl6VBFoZ",
        "outputId": "65cce6c2-62f5-4049-c2c2-c17e3b5f2162"
      },
      "execution_count": null,
      "outputs": [
        {
          "output_type": "execute_result",
          "data": {
            "text/plain": [
              "\"# Remove columns from test data as well\\nX_test = X_test.drop(columns = ['fAsym', 'fDist'])\\nX_test.head()\""
            ],
            "application/vnd.google.colaboratory.intrinsic+json": {
              "type": "string"
            }
          },
          "metadata": {},
          "execution_count": 22
        }
      ]
    },
    {
      "cell_type": "markdown",
      "source": [
        "## **3. Model Selection**\n",
        "We will use Cross Validation to determine the most suitable models out of the following:\n",
        "* Decision Trees\n",
        "* Random Forests\n",
        "* Support Vector Machines (SVM)\n",
        "* k-Nearest Neighbors (k-NN)\n",
        "* Naïve Bayes"
      ],
      "metadata": {
        "id": "ugeX8df98lQk"
      }
    },
    {
      "cell_type": "code",
      "source": [
        "from sklearn.model_selection import cross_val_score"
      ],
      "metadata": {
        "id": "l_TPOCfi8vjg"
      },
      "execution_count": null,
      "outputs": []
    },
    {
      "cell_type": "markdown",
      "source": [
        "### **3.1 Decision Trees**\n"
      ],
      "metadata": {
        "id": "jrD5q-jq9oXd"
      }
    },
    {
      "cell_type": "code",
      "source": [
        "from sklearn.tree import DecisionTreeClassifier\n",
        "model = DecisionTreeClassifier()\n",
        "# Our dataset will split into 5 portions\n",
        "cross_val_score(model, X_train, y_train, cv = 5).mean()"
      ],
      "metadata": {
        "colab": {
          "base_uri": "https://localhost:8080/"
        },
        "id": "nt1opb6e9lKN",
        "outputId": "03defb60-3d69-4178-955b-2900bf45d651"
      },
      "execution_count": null,
      "outputs": [
        {
          "output_type": "execute_result",
          "data": {
            "text/plain": [
              "0.8150730581902076"
            ]
          },
          "metadata": {},
          "execution_count": 24
        }
      ]
    },
    {
      "cell_type": "markdown",
      "source": [
        "### **3.2 Random Forests**\n"
      ],
      "metadata": {
        "id": "CvacIziG-MO7"
      }
    },
    {
      "cell_type": "code",
      "source": [
        "from sklearn.ensemble import RandomForestClassifier\n",
        "model = RandomForestClassifier()\n",
        "cross_val_score(model, X_train, y_train, cv = 5).mean()"
      ],
      "metadata": {
        "colab": {
          "base_uri": "https://localhost:8080/"
        },
        "id": "30G4ICsy-Mny",
        "outputId": "5002dea0-244b-4790-d425-bec12993d5c7"
      },
      "execution_count": null,
      "outputs": [
        {
          "output_type": "execute_result",
          "data": {
            "text/plain": [
              "0.8786977698026146"
            ]
          },
          "metadata": {},
          "execution_count": 25
        }
      ]
    },
    {
      "cell_type": "markdown",
      "source": [
        "### **3.3 Support Vector Machines**"
      ],
      "metadata": {
        "id": "ldNeWy9a-epy"
      }
    },
    {
      "cell_type": "code",
      "source": [
        "from sklearn.svm import SVC\n",
        "model = SVC()\n",
        "cross_val_score(model, X_train, y_train, cv = 5).mean()"
      ],
      "metadata": {
        "colab": {
          "base_uri": "https://localhost:8080/"
        },
        "id": "BGK-OqWC-fLu",
        "outputId": "4b3f42be-149b-49d3-bcb9-da3b36c9e1a2"
      },
      "execution_count": null,
      "outputs": [
        {
          "output_type": "execute_result",
          "data": {
            "text/plain": [
              "0.8454755190976673"
            ]
          },
          "metadata": {},
          "execution_count": 26
        }
      ]
    },
    {
      "cell_type": "markdown",
      "source": [
        "### **3.4 k-Nearest Neighbors (k-NN)**"
      ],
      "metadata": {
        "id": "3prbPnhI-0Mt"
      }
    },
    {
      "cell_type": "code",
      "source": [
        "from sklearn.neighbors import KNeighborsClassifier\n",
        "model = KNeighborsClassifier()\n",
        "cross_val_score(model, X_train, y_train, cv = 5).mean()"
      ],
      "metadata": {
        "colab": {
          "base_uri": "https://localhost:8080/"
        },
        "id": "xpjQQYbb-0nu",
        "outputId": "41d04c06-d80e-45b8-ae3d-8c9d1b6c4f43"
      },
      "execution_count": null,
      "outputs": [
        {
          "output_type": "execute_result",
          "data": {
            "text/plain": [
              "0.8426044603947705"
            ]
          },
          "metadata": {},
          "execution_count": 27
        }
      ]
    },
    {
      "cell_type": "markdown",
      "source": [
        "### **3.5 Naïve Bayes**"
      ],
      "metadata": {
        "id": "8ADiNy1j_SDF"
      }
    },
    {
      "cell_type": "code",
      "source": [
        "from sklearn.naive_bayes import GaussianNB\n",
        "model = GaussianNB()\n",
        "cross_val_score(model, X_train, y_train, cv = 5).mean()"
      ],
      "metadata": {
        "colab": {
          "base_uri": "https://localhost:8080/"
        },
        "id": "FiTEmj3P_SeW",
        "outputId": "e9bf9d3e-8ac7-4186-c184-c60585249aa2"
      },
      "execution_count": null,
      "outputs": [
        {
          "output_type": "execute_result",
          "data": {
            "text/plain": [
              "0.7008459369392464"
            ]
          },
          "metadata": {},
          "execution_count": 28
        }
      ]
    },
    {
      "cell_type": "markdown",
      "source": [
        "Therefore, we will be using...\n",
        "1. Random Forests\n",
        "2. Support Vector Machines\n",
        "3. k-Nearest Neighbors (k-NN)"
      ],
      "metadata": {
        "id": "nCrlxih3_oQI"
      }
    },
    {
      "cell_type": "markdown",
      "source": [
        "## **4. Model Training and Evaluation**"
      ],
      "metadata": {
        "id": "m93xJVLt_z8m"
      }
    },
    {
      "cell_type": "markdown",
      "source": [
        "### **4.1 Random Forests**\n"
      ],
      "metadata": {
        "id": "3UxRFYS8AKPc"
      }
    },
    {
      "cell_type": "code",
      "source": [
        "model = RandomForestClassifier()\n",
        "model.fit(X_train, y_train)\n",
        "pred = model.predict(X_test)\n",
        "pred[:10]"
      ],
      "metadata": {
        "colab": {
          "base_uri": "https://localhost:8080/"
        },
        "id": "OYRwRlhhAGAD",
        "outputId": "de5385c9-f0aa-4ecf-8201-fd940bfc1b2c"
      },
      "execution_count": null,
      "outputs": [
        {
          "output_type": "execute_result",
          "data": {
            "text/plain": [
              "array(['h', 'h', 'h', 'g', 'h', 'g', 'g', 'h', 'g', 'g'], dtype=object)"
            ]
          },
          "metadata": {},
          "execution_count": 29
        }
      ]
    },
    {
      "cell_type": "code",
      "source": [
        "print(y_test[:10])"
      ],
      "metadata": {
        "colab": {
          "base_uri": "https://localhost:8080/"
        },
        "id": "iaCVTNxsBcD3",
        "outputId": "6717d285-249c-4157-e550-2008a4f82724"
      },
      "execution_count": null,
      "outputs": [
        {
          "output_type": "stream",
          "name": "stdout",
          "text": [
            "22259    h\n",
            "20014    h\n",
            "20190    h\n",
            "1599     g\n",
            "17807    h\n",
            "10753    g\n",
            "1493     g\n",
            "2789     g\n",
            "2645     g\n",
            "10838    g\n",
            "Name: class, dtype: object\n"
          ]
        }
      ]
    },
    {
      "cell_type": "code",
      "source": [
        "from sklearn.metrics import accuracy_score\n",
        "accuracy = accuracy_score(y_test, pred)\n",
        "accuracy"
      ],
      "metadata": {
        "colab": {
          "base_uri": "https://localhost:8080/"
        },
        "id": "v0bA7gVhBiII",
        "outputId": "13a03785-6167-4f1f-fa47-9a1b57120a18"
      },
      "execution_count": null,
      "outputs": [
        {
          "output_type": "execute_result",
          "data": {
            "text/plain": [
              "0.8843551363543162"
            ]
          },
          "metadata": {},
          "execution_count": 31
        }
      ]
    },
    {
      "cell_type": "code",
      "source": [
        "from sklearn.metrics import classification_report\n",
        "report = classification_report(y_test, pred)\n",
        "print(report)"
      ],
      "metadata": {
        "colab": {
          "base_uri": "https://localhost:8080/"
        },
        "id": "ry1PdVB6CDf1",
        "outputId": "b7554dde-268c-4680-8582-c7098bfd516e"
      },
      "execution_count": null,
      "outputs": [
        {
          "output_type": "stream",
          "name": "stdout",
          "text": [
            "              precision    recall  f1-score   support\n",
            "\n",
            "           g       0.88      0.89      0.89      2436\n",
            "           h       0.89      0.88      0.88      2441\n",
            "\n",
            "    accuracy                           0.88      4877\n",
            "   macro avg       0.88      0.88      0.88      4877\n",
            "weighted avg       0.88      0.88      0.88      4877\n",
            "\n"
          ]
        }
      ]
    },
    {
      "cell_type": "markdown",
      "source": [
        "### **4.2 Support Vector Machines**\n"
      ],
      "metadata": {
        "id": "KXcxd8scCvu6"
      }
    },
    {
      "cell_type": "code",
      "source": [
        "model = SVC()\n",
        "model.fit(X_train, y_train)\n",
        "pred = model.predict(X_test)\n",
        "print(pred[0:10])"
      ],
      "metadata": {
        "colab": {
          "base_uri": "https://localhost:8080/"
        },
        "id": "wW44MePPCRRg",
        "outputId": "52adf80e-eec9-4b9e-c84c-c3628d73d9e2"
      },
      "execution_count": null,
      "outputs": [
        {
          "output_type": "stream",
          "name": "stdout",
          "text": [
            "['h' 'h' 'h' 'g' 'h' 'g' 'g' 'g' 'g' 'h']\n"
          ]
        }
      ]
    },
    {
      "cell_type": "code",
      "source": [
        "print(y_test[0:10].values)"
      ],
      "metadata": {
        "colab": {
          "base_uri": "https://localhost:8080/"
        },
        "id": "7Kgq7JxXDBo9",
        "outputId": "399de69b-a9d9-4007-92dc-d38d150828fd"
      },
      "execution_count": null,
      "outputs": [
        {
          "output_type": "stream",
          "name": "stdout",
          "text": [
            "['h' 'h' 'h' 'g' 'h' 'g' 'g' 'g' 'g' 'g']\n"
          ]
        }
      ]
    },
    {
      "cell_type": "code",
      "source": [
        "from sklearn.metrics import accuracy_score\n",
        "accuracy = accuracy_score(y_test, pred)\n",
        "accuracy"
      ],
      "metadata": {
        "colab": {
          "base_uri": "https://localhost:8080/"
        },
        "id": "Nx4xGDJBDWTG",
        "outputId": "edbeb567-0cd1-4a38-c7b8-a4a8440d1cb2"
      },
      "execution_count": null,
      "outputs": [
        {
          "output_type": "execute_result",
          "data": {
            "text/plain": [
              "0.8519581710067664"
            ]
          },
          "metadata": {},
          "execution_count": 35
        }
      ]
    },
    {
      "cell_type": "code",
      "source": [
        "from sklearn.metrics import classification_report\n",
        "report = classification_report(y_test, pred)\n",
        "print(report)"
      ],
      "metadata": {
        "colab": {
          "base_uri": "https://localhost:8080/"
        },
        "id": "0Amxs6r3DWxP",
        "outputId": "46fa62d5-c77c-4063-a12d-d0fdf8a21acc"
      },
      "execution_count": null,
      "outputs": [
        {
          "output_type": "stream",
          "name": "stdout",
          "text": [
            "              precision    recall  f1-score   support\n",
            "\n",
            "           g       0.82      0.89      0.86      2436\n",
            "           h       0.88      0.81      0.85      2441\n",
            "\n",
            "    accuracy                           0.85      4877\n",
            "   macro avg       0.85      0.85      0.85      4877\n",
            "weighted avg       0.85      0.85      0.85      4877\n",
            "\n"
          ]
        }
      ]
    },
    {
      "cell_type": "markdown",
      "source": [
        "### **4.3 k-Nearest Neighbors (k-NN)**\n"
      ],
      "metadata": {
        "id": "1-qGBCpmDcVE"
      }
    },
    {
      "cell_type": "code",
      "source": [
        "model = KNeighborsClassifier()\n",
        "model.fit(X_train, y_train)\n",
        "pred = model.predict(X_test)\n",
        "print(pred[0:10])"
      ],
      "metadata": {
        "colab": {
          "base_uri": "https://localhost:8080/"
        },
        "id": "tdP-TL2WDfr8",
        "outputId": "97b9764b-2973-4d64-b6a0-059bec832dd8"
      },
      "execution_count": null,
      "outputs": [
        {
          "output_type": "stream",
          "name": "stdout",
          "text": [
            "['h' 'h' 'h' 'g' 'h' 'g' 'g' 'g' 'g' 'h']\n"
          ]
        }
      ]
    },
    {
      "cell_type": "code",
      "source": [
        "print(y_test[0:10].values)"
      ],
      "metadata": {
        "colab": {
          "base_uri": "https://localhost:8080/"
        },
        "id": "DtcfCkNxD0HK",
        "outputId": "7966e651-ed1f-44cb-bfdb-cb60055a1609"
      },
      "execution_count": null,
      "outputs": [
        {
          "output_type": "stream",
          "name": "stdout",
          "text": [
            "['h' 'h' 'h' 'g' 'h' 'g' 'g' 'g' 'g' 'g']\n"
          ]
        }
      ]
    },
    {
      "cell_type": "code",
      "source": [
        "from sklearn.metrics import accuracy_score\n",
        "accuracy = accuracy_score(y_test, pred)\n",
        "accuracy"
      ],
      "metadata": {
        "colab": {
          "base_uri": "https://localhost:8080/"
        },
        "id": "gPHs2XJwD24i",
        "outputId": "672073ac-4ae4-41fa-b180-4e1f358e2b42"
      },
      "execution_count": null,
      "outputs": [
        {
          "output_type": "execute_result",
          "data": {
            "text/plain": [
              "0.8540086118515481"
            ]
          },
          "metadata": {},
          "execution_count": 39
        }
      ]
    },
    {
      "cell_type": "code",
      "source": [
        "from sklearn.metrics import classification_report\n",
        "report = classification_report(y_test, pred)\n",
        "print(report)"
      ],
      "metadata": {
        "colab": {
          "base_uri": "https://localhost:8080/"
        },
        "id": "EBOLeZj7D3Tg",
        "outputId": "b2401809-5013-4de0-bf39-dde70198dd0a"
      },
      "execution_count": null,
      "outputs": [
        {
          "output_type": "stream",
          "name": "stdout",
          "text": [
            "              precision    recall  f1-score   support\n",
            "\n",
            "           g       0.84      0.87      0.86      2436\n",
            "           h       0.87      0.84      0.85      2441\n",
            "\n",
            "    accuracy                           0.85      4877\n",
            "   macro avg       0.85      0.85      0.85      4877\n",
            "weighted avg       0.85      0.85      0.85      4877\n",
            "\n"
          ]
        }
      ]
    },
    {
      "cell_type": "markdown",
      "source": [
        "After testing I found that removing the 02 features actually reduced the accuracies of the model.\n",
        "\n",
        "Accuracies Before Feature Selection:\n",
        "\n",
        "* 0.8857904449456633\n",
        "* 0.8556489645273734\n",
        "* 0.852573303260201\n",
        "\n",
        "Accuracies After Feature Selection:\n",
        "\n",
        "* 0.8706171826942792\n",
        "* 0.841295878613902\n",
        "* 0.8538035677670699\n",
        "\n",
        "Therefore, I decided leave feature selection out."
      ],
      "metadata": {
        "id": "BVRyVmaie1WB"
      }
    },
    {
      "cell_type": "markdown",
      "source": [
        "## **5. Hyperparameter Tuning and Retraining the Model**"
      ],
      "metadata": {
        "id": "Pjd0aOZ-hbQe"
      }
    },
    {
      "cell_type": "code",
      "source": [
        "from sklearn.model_selection import GridSearchCV"
      ],
      "metadata": {
        "id": "tadLiQLGi4f6"
      },
      "execution_count": null,
      "outputs": []
    },
    {
      "cell_type": "markdown",
      "source": [
        "### **5.1 Random Forests**\n"
      ],
      "metadata": {
        "id": "EJe-uR0liRc5"
      }
    },
    {
      "cell_type": "code",
      "source": [
        "model = RandomForestClassifier()\n",
        "param_grid = {\n",
        "    'n_estimators': [50, 100, 150],\n",
        "    # 'criterion': ['gini', 'entropy'],\n",
        "    'max_depth': [None, 10, 20, 30],\n",
        "    # 'min_samples_split': [2, 5, 10],\n",
        "    # 'min_samples_leaf': [1, 2, 4],\n",
        "    # 'max_features': ['sqrt', 'log2', None],\n",
        "    # 'bootstrap': [True, False]\n",
        "}\n",
        "grid_search = GridSearchCV(estimator = model, param_grid = param_grid)\n",
        "grid_search.fit(X_train, y_train)\n",
        "grid_search.best_params_"
      ],
      "metadata": {
        "id": "XkrGUYW0hfMf",
        "colab": {
          "base_uri": "https://localhost:8080/"
        },
        "outputId": "dc4a6e54-ee86-4f6c-d75c-22736d4920ae"
      },
      "execution_count": null,
      "outputs": [
        {
          "output_type": "execute_result",
          "data": {
            "text/plain": [
              "{'max_depth': None, 'n_estimators': 100}"
            ]
          },
          "metadata": {},
          "execution_count": 42
        }
      ]
    },
    {
      "cell_type": "code",
      "source": [
        "grid_search.score(X_test, y_test)"
      ],
      "metadata": {
        "id": "w9GJ7Rvph2bD",
        "colab": {
          "base_uri": "https://localhost:8080/"
        },
        "outputId": "45a60531-ca45-464d-94e8-6f709eae6001"
      },
      "execution_count": null,
      "outputs": [
        {
          "output_type": "execute_result",
          "data": {
            "text/plain": [
              "0.885380356776707"
            ]
          },
          "metadata": {},
          "execution_count": 43
        }
      ]
    },
    {
      "cell_type": "code",
      "source": [
        "model = RandomForestClassifier(\n",
        "    n_estimators = 100,\n",
        "    max_depth = None\n",
        ")\n",
        "model.fit(X_train, y_train)\n",
        "pred = model.predict(X_test)\n",
        "pred[:10]"
      ],
      "metadata": {
        "colab": {
          "base_uri": "https://localhost:8080/"
        },
        "id": "QxhQ9_3TkRAg",
        "outputId": "61a67bcd-f46f-44ed-f2ff-a5239081fa6d"
      },
      "execution_count": null,
      "outputs": [
        {
          "output_type": "execute_result",
          "data": {
            "text/plain": [
              "array(['h', 'h', 'h', 'g', 'h', 'g', 'g', 'h', 'g', 'g'], dtype=object)"
            ]
          },
          "metadata": {},
          "execution_count": 64
        }
      ]
    },
    {
      "cell_type": "code",
      "source": [
        "print(y_test[:10])"
      ],
      "metadata": {
        "id": "cgaY5Eg3kUFy",
        "colab": {
          "base_uri": "https://localhost:8080/"
        },
        "outputId": "3a16e6cc-a06e-4e32-f84d-78f798053e81"
      },
      "execution_count": null,
      "outputs": [
        {
          "output_type": "stream",
          "name": "stdout",
          "text": [
            "22259    h\n",
            "20014    h\n",
            "20190    h\n",
            "1599     g\n",
            "17807    h\n",
            "10753    g\n",
            "1493     g\n",
            "2789     g\n",
            "2645     g\n",
            "10838    g\n",
            "Name: class, dtype: object\n"
          ]
        }
      ]
    },
    {
      "cell_type": "code",
      "source": [
        "from sklearn.metrics import accuracy_score\n",
        "accuracy = accuracy_score(y_test, pred)\n",
        "accuracy"
      ],
      "metadata": {
        "colab": {
          "base_uri": "https://localhost:8080/"
        },
        "id": "v0Vk3D_Okbv7",
        "outputId": "8ac33a9e-404b-4a1d-915f-c904e3161ffe"
      },
      "execution_count": null,
      "outputs": [
        {
          "output_type": "execute_result",
          "data": {
            "text/plain": [
              "0.8868156653680541"
            ]
          },
          "metadata": {},
          "execution_count": 66
        }
      ]
    },
    {
      "cell_type": "code",
      "source": [
        "from sklearn.metrics import classification_report\n",
        "report = classification_report(y_test, pred)\n",
        "print(report)"
      ],
      "metadata": {
        "colab": {
          "base_uri": "https://localhost:8080/"
        },
        "id": "f8Vy9ghfkgOC",
        "outputId": "8db87a85-9d4b-48b8-acfe-cd5aedb2c4c8"
      },
      "execution_count": null,
      "outputs": [
        {
          "output_type": "stream",
          "name": "stdout",
          "text": [
            "              precision    recall  f1-score   support\n",
            "\n",
            "           g       0.88      0.90      0.89      2436\n",
            "           h       0.90      0.87      0.89      2441\n",
            "\n",
            "    accuracy                           0.89      4877\n",
            "   macro avg       0.89      0.89      0.89      4877\n",
            "weighted avg       0.89      0.89      0.89      4877\n",
            "\n"
          ]
        }
      ]
    },
    {
      "cell_type": "markdown",
      "source": [
        "### **5.2 Support Vector Machines**"
      ],
      "metadata": {
        "id": "X7BcnLl0iXkY"
      }
    },
    {
      "cell_type": "code",
      "source": [
        "model = SVC()\n",
        "param_grid = {\n",
        "    'C': [0.1, 1, 10, 100],\n",
        "    'kernel': ['linear', 'poly', 'rbf', 'sigmoid'],\n",
        "    # 'gamma': ['scale', 'auto'],\n",
        "    # 'degree': [2, 3, 4],\n",
        "    # 'coef0': [0.0, 0.1, 0.5, 1.0],\n",
        "}\n",
        "grid_search = GridSearchCV(estimator = model, param_grid = param_grid)\n",
        "grid_search.fit(X_train, y_train)\n",
        "grid_search.best_params_"
      ],
      "metadata": {
        "id": "Fnizm1zIic-g",
        "colab": {
          "base_uri": "https://localhost:8080/"
        },
        "outputId": "5aa2df9a-a6e8-4673-d668-4ce634832d61"
      },
      "execution_count": null,
      "outputs": [
        {
          "output_type": "execute_result",
          "data": {
            "text/plain": [
              "{'C': 100, 'kernel': 'rbf'}"
            ]
          },
          "metadata": {},
          "execution_count": 48
        }
      ]
    },
    {
      "cell_type": "code",
      "source": [
        "grid_search.score(X_test, y_test)"
      ],
      "metadata": {
        "id": "4XSj61FOj_FI",
        "colab": {
          "base_uri": "https://localhost:8080/"
        },
        "outputId": "6696e5d4-8f67-4d77-be02-b852c190899f"
      },
      "execution_count": null,
      "outputs": [
        {
          "output_type": "execute_result",
          "data": {
            "text/plain": [
              "0.8738978880459298"
            ]
          },
          "metadata": {},
          "execution_count": 49
        }
      ]
    },
    {
      "cell_type": "code",
      "source": [
        "model = SVC(\n",
        "    C = 100,\n",
        "    kernel = 'rbf'\n",
        ")\n",
        "model.fit(X_train, y_train)\n",
        "pred = model.predict(X_test)\n",
        "pred[:10]"
      ],
      "metadata": {
        "colab": {
          "base_uri": "https://localhost:8080/"
        },
        "id": "SCSoJuiakDIn",
        "outputId": "bfb16de4-fc24-45de-d398-d5acce900d29"
      },
      "execution_count": null,
      "outputs": [
        {
          "output_type": "execute_result",
          "data": {
            "text/plain": [
              "array(['h', 'h', 'h', 'g', 'h', 'g', 'g', 'h', 'g', 'h'], dtype=object)"
            ]
          },
          "metadata": {},
          "execution_count": 60
        }
      ]
    },
    {
      "cell_type": "code",
      "source": [
        "print(y_test[:10])"
      ],
      "metadata": {
        "id": "LOfMnFGNlFZI",
        "colab": {
          "base_uri": "https://localhost:8080/"
        },
        "outputId": "5f9721a4-74e7-442b-db59-2d70819257f0"
      },
      "execution_count": null,
      "outputs": [
        {
          "output_type": "stream",
          "name": "stdout",
          "text": [
            "22259    h\n",
            "20014    h\n",
            "20190    h\n",
            "1599     g\n",
            "17807    h\n",
            "10753    g\n",
            "1493     g\n",
            "2789     g\n",
            "2645     g\n",
            "10838    g\n",
            "Name: class, dtype: object\n"
          ]
        }
      ]
    },
    {
      "cell_type": "code",
      "source": [
        "from sklearn.metrics import accuracy_score\n",
        "accuracy = accuracy_score(y_test, pred)\n",
        "accuracy"
      ],
      "metadata": {
        "colab": {
          "base_uri": "https://localhost:8080/"
        },
        "id": "daBBrE7TlGzX",
        "outputId": "cbad0521-946f-4994-8129-2f9ac4c19801"
      },
      "execution_count": null,
      "outputs": [
        {
          "output_type": "execute_result",
          "data": {
            "text/plain": [
              "0.8738978880459298"
            ]
          },
          "metadata": {},
          "execution_count": 62
        }
      ]
    },
    {
      "cell_type": "code",
      "source": [
        "from sklearn.metrics import classification_report\n",
        "report = classification_report(y_test, pred)\n",
        "print(report)"
      ],
      "metadata": {
        "colab": {
          "base_uri": "https://localhost:8080/"
        },
        "id": "lJAQCatIlIRn",
        "outputId": "e71e76d2-947c-403e-d2f2-d14e83335b99"
      },
      "execution_count": null,
      "outputs": [
        {
          "output_type": "stream",
          "name": "stdout",
          "text": [
            "              precision    recall  f1-score   support\n",
            "\n",
            "           g       0.85      0.91      0.88      2436\n",
            "           h       0.90      0.84      0.87      2441\n",
            "\n",
            "    accuracy                           0.87      4877\n",
            "   macro avg       0.88      0.87      0.87      4877\n",
            "weighted avg       0.88      0.87      0.87      4877\n",
            "\n"
          ]
        }
      ]
    },
    {
      "cell_type": "markdown",
      "source": [
        "### **4.3 k-Nearest Neighbors (k-NN)**\n"
      ],
      "metadata": {
        "id": "8KZUS_lridSJ"
      }
    },
    {
      "cell_type": "code",
      "source": [
        "model = KNeighborsClassifier()\n",
        "param_grid = {\n",
        "    'n_neighbors': [3, 5, 7, 9, 11],\n",
        "    'weights': ['uniform', 'distance'],\n",
        "    # 'algorithm': ['auto', 'ball_tree', 'kd_tree', 'brute'],\n",
        "    # 'leaf_size': [20, 30, 40],\n",
        "    # 'p': [1, 2]\n",
        "}\n",
        "grid_search = GridSearchCV(estimator = model, param_grid = param_grid)\n",
        "grid_search.fit(X_train, y_train)\n",
        "grid_search.best_params_"
      ],
      "metadata": {
        "id": "8GaTEB17iggT",
        "colab": {
          "base_uri": "https://localhost:8080/"
        },
        "outputId": "114f558e-1302-44ea-c5ac-ac0256c0b655"
      },
      "execution_count": null,
      "outputs": [
        {
          "output_type": "execute_result",
          "data": {
            "text/plain": [
              "{'n_neighbors': 5, 'weights': 'distance'}"
            ]
          },
          "metadata": {},
          "execution_count": 54
        }
      ]
    },
    {
      "cell_type": "code",
      "source": [
        "grid_search.score(X_test, y_test)"
      ],
      "metadata": {
        "id": "EkC-qXwGj_r0",
        "colab": {
          "base_uri": "https://localhost:8080/"
        },
        "outputId": "51caaeb3-f4a8-44a5-804b-c9678653f1a9"
      },
      "execution_count": null,
      "outputs": [
        {
          "output_type": "execute_result",
          "data": {
            "text/plain": [
              "0.8763584170596679"
            ]
          },
          "metadata": {},
          "execution_count": 55
        }
      ]
    },
    {
      "cell_type": "code",
      "source": [
        "model = KNeighborsClassifier(\n",
        "    n_neighbors = 5,\n",
        "    weights = 'distance'\n",
        ")\n",
        "model.fit(X_train, y_train)\n",
        "pred = model.predict(X_test)\n",
        "pred[:10]"
      ],
      "metadata": {
        "colab": {
          "base_uri": "https://localhost:8080/"
        },
        "id": "zm6plH6ZlQqI",
        "outputId": "5d3bccdd-0374-43ce-b01f-b3e6aa37ffe9"
      },
      "execution_count": null,
      "outputs": [
        {
          "output_type": "execute_result",
          "data": {
            "text/plain": [
              "array(['h', 'h', 'h', 'g', 'h', 'g', 'g', 'g', 'g', 'h'], dtype=object)"
            ]
          },
          "metadata": {},
          "execution_count": 68
        }
      ]
    },
    {
      "cell_type": "code",
      "source": [
        "print(y_test[:10])"
      ],
      "metadata": {
        "id": "t2f13DfMlSDK",
        "colab": {
          "base_uri": "https://localhost:8080/"
        },
        "outputId": "62bb4151-d600-4e51-a60f-af6fdd22ed6b"
      },
      "execution_count": null,
      "outputs": [
        {
          "output_type": "stream",
          "name": "stdout",
          "text": [
            "22259    h\n",
            "20014    h\n",
            "20190    h\n",
            "1599     g\n",
            "17807    h\n",
            "10753    g\n",
            "1493     g\n",
            "2789     g\n",
            "2645     g\n",
            "10838    g\n",
            "Name: class, dtype: object\n"
          ]
        }
      ]
    },
    {
      "cell_type": "code",
      "source": [
        "from sklearn.metrics import accuracy_score\n",
        "accuracy = accuracy_score(y_test, pred)\n",
        "accuracy"
      ],
      "metadata": {
        "colab": {
          "base_uri": "https://localhost:8080/"
        },
        "id": "x-n0I1WhlTbY",
        "outputId": "5ec2ca67-91cb-4201-846e-6349fe9f97bc"
      },
      "execution_count": null,
      "outputs": [
        {
          "output_type": "execute_result",
          "data": {
            "text/plain": [
              "0.8763584170596679"
            ]
          },
          "metadata": {},
          "execution_count": 70
        }
      ]
    },
    {
      "cell_type": "code",
      "source": [
        "from sklearn.metrics import classification_report\n",
        "report = classification_report(y_test, pred)\n",
        "print(report)"
      ],
      "metadata": {
        "colab": {
          "base_uri": "https://localhost:8080/"
        },
        "id": "ec5RhX2TlUwA",
        "outputId": "81cd6b2d-840e-4630-f099-3024aec509d6"
      },
      "execution_count": null,
      "outputs": [
        {
          "output_type": "stream",
          "name": "stdout",
          "text": [
            "              precision    recall  f1-score   support\n",
            "\n",
            "           g       0.88      0.87      0.88      2436\n",
            "           h       0.87      0.88      0.88      2441\n",
            "\n",
            "    accuracy                           0.88      4877\n",
            "   macro avg       0.88      0.88      0.88      4877\n",
            "weighted avg       0.88      0.88      0.88      4877\n",
            "\n"
          ]
        }
      ]
    },
    {
      "cell_type": "markdown",
      "source": [
        "After Hyperparameter Tuning, SNM and k-NN Models performed even better."
      ],
      "metadata": {
        "id": "zjMeJh-1DgDa"
      }
    },
    {
      "cell_type": "markdown",
      "source": [
        "## **6. Final Evaluation**\n",
        "Among the three models evaluated, **Random Forest** demonstrated the highest accuracy and\n",
        "overall performance based on the classification report metrics.\n",
        "\n",
        "It had the best accuracy and the best F1-Score.\n",
        "\n",
        "For this case we can access model performance using accuracy because the dataset is balanced.\n"
      ],
      "metadata": {
        "id": "ttd0D4I3Dtek"
      }
    }
  ]
}